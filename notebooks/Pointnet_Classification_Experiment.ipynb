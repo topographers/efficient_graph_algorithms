{
 "cells": [
  {
   "cell_type": "markdown",
   "metadata": {
    "id": "Yk4ODYPINfJw"
   },
   "source": [
    "# Point cloud classification with Pointnet using Keras\n"
   ]
  },
  {
   "cell_type": "markdown",
   "metadata": {
    "id": "gxbsYefcNfJw"
   },
   "source": [
    "## Introduction\n",
    "\n",
    "Classification, detection and segmentation of unordered 3D point sets i.e. point clouds\n",
    "is a core problem in computer vision. This example implements the seminal point cloud\n",
    "deep learning paper [PointNet (Qi et al., 2017)](https://arxiv.org/abs/1612.00593). \n"
   ]
  },
  {
   "cell_type": "markdown",
   "metadata": {
    "id": "xZkZq4vnNfJw"
   },
   "source": [
    "## Setup\n",
    "\n",
    "If using colab first install trimesh with `!pip install trimesh`.\n"
   ]
  },
  {
   "cell_type": "code",
   "execution_count": 10,
   "metadata": {
    "colab": {
     "base_uri": "https://localhost:8080/"
    },
    "id": "GBKsNQTINfJx",
    "outputId": "9a0a967c-e03d-4cc8-d5d3-b1073d57519a"
   },
   "outputs": [
    {
     "name": "stdout",
     "output_type": "stream",
     "text": [
      "Requirement already satisfied: trimesh in /home/david/anaconda3/envs/topographers/lib/python3.10/site-packages (3.20.2)\r\n",
      "Requirement already satisfied: numpy in /home/david/anaconda3/envs/topographers/lib/python3.10/site-packages (from trimesh) (1.23.5)\r\n"
     ]
    }
   ],
   "source": [
    "!pip install trimesh\n",
    "import os\n",
    "import glob\n",
    "import trimesh\n",
    "import numpy as np\n",
    "import tensorflow as tf\n",
    "from tensorflow import keras\n",
    "from tensorflow.keras import layers\n",
    "from matplotlib import pyplot as plt\n",
    "\n",
    "tf.random.set_seed(1234)\n"
   ]
  },
  {
   "cell_type": "markdown",
   "metadata": {
    "id": "5QLYeY1ANfJx"
   },
   "source": [
    "## Load dataset\n",
    "\n",
    "We use the ModelNet10 model dataset, the smaller 10 class version of the ModelNet40\n",
    "dataset. First download the data:\n"
   ]
  },
  {
   "cell_type": "code",
   "execution_count": 11,
   "metadata": {
    "colab": {
     "base_uri": "https://localhost:8080/"
    },
    "id": "dzuVsQ5mNfJx",
    "outputId": "4f5ce452-da70-4b6c-a98f-53998a7923b2"
   },
   "outputs": [],
   "source": [
    "DATA_DIR = tf.keras.utils.get_file(\n",
    "    \"modelnet.zip\",\n",
    "    \"http://3dvision.princeton.edu/projects/2014/3DShapeNets/ModelNet10.zip\",\n",
    "    extract=True,\n",
    ")\n",
    "DATA_DIR = os.path.join(os.path.dirname(DATA_DIR), \"ModelNet10\")\n"
   ]
  },
  {
   "cell_type": "markdown",
   "metadata": {
    "id": "jVSTia6VNfJy"
   },
   "source": [
    "We can use the `trimesh` package to read and visualize the `.off` mesh files.\n"
   ]
  },
  {
   "cell_type": "code",
   "execution_count": 12,
   "metadata": {
    "id": "rXPrzvH2NfJy"
   },
   "outputs": [],
   "source": [
    "# mesh = trimesh.load(os.path.join(DATA_DIR, \"chair/train/chair_0001.off\"))\n",
    "# mesh.show()\n"
   ]
  },
  {
   "cell_type": "markdown",
   "metadata": {
    "id": "laIJXpFONfJy"
   },
   "source": [
    "To convert a mesh file to a point cloud we first need to sample points on the mesh\n",
    "surface. `.sample()` performs a unifrom random sampling. Here we sample at 2048 locations\n",
    "and visualize in `matplotlib`.\n"
   ]
  },
  {
   "cell_type": "code",
   "execution_count": 13,
   "metadata": {
    "colab": {
     "base_uri": "https://localhost:8080/",
     "height": 303
    },
    "id": "8Nu2MCwqNfJy",
    "outputId": "4b9a1188-8c6c-4314-bdc4-53decca8fbd2"
   },
   "outputs": [],
   "source": [
    "# points = mesh.sample(2048)\n",
    "\n",
    "# fig = plt.figure(figsize=(5, 5))\n",
    "# ax = fig.add_subplot(111, projection=\"3d\")\n",
    "# ax.scatter(points[:, 0], points[:, 1], points[:, 2])\n",
    "# ax.set_axis_off()\n",
    "# plt.show()\n"
   ]
  },
  {
   "cell_type": "markdown",
   "metadata": {
    "id": "3Z1k4sMMNfJz"
   },
   "source": [
    "To generate a `tf.data.Dataset()` we need to first parse through the ModelNet data\n",
    "folders. Each mesh is loaded and sampled into a point cloud before being added to a\n",
    "standard python list and converted to a `numpy` array. We also store the current\n",
    "enumerate index value as the object label and use a dictionary to recall this later.\n"
   ]
  },
  {
   "cell_type": "code",
   "execution_count": 14,
   "metadata": {
    "id": "pgvCaT7BNfJz"
   },
   "outputs": [],
   "source": [
    "\n",
    "def parse_dataset(num_points=2048):\n",
    "\n",
    "    train_points = []\n",
    "    train_labels = []\n",
    "    test_points = []\n",
    "    test_labels = []\n",
    "    class_map = {}\n",
    "    folders = glob.glob(os.path.join(DATA_DIR, \"[!README]*\"))\n",
    "\n",
    "    for i, folder in enumerate(folders):\n",
    "        print(\"processing class: {}\".format(os.path.basename(folder)))\n",
    "        # store folder name with ID so we can retrieve later\n",
    "        class_map[i] = folder.split(\"/\")[-1]\n",
    "        # gather all files\n",
    "        train_files = glob.glob(os.path.join(folder, \"train/*\"))\n",
    "        test_files = glob.glob(os.path.join(folder, \"test/*\"))\n",
    "\n",
    "        for f in train_files:\n",
    "            train_points.append(trimesh.load(f).sample(num_points))\n",
    "            train_labels.append(i)\n",
    "\n",
    "        for f in test_files:\n",
    "            test_points.append(trimesh.load(f).sample(num_points))\n",
    "            test_labels.append(i)\n",
    "\n",
    "    return (\n",
    "        np.array(train_points),\n",
    "        np.array(test_points),\n",
    "        np.array(train_labels),\n",
    "        np.array(test_labels),\n",
    "        class_map,\n",
    "    )\n",
    "\n"
   ]
  },
  {
   "cell_type": "markdown",
   "metadata": {
    "id": "Hidf-nSKNfJz"
   },
   "source": [
    "Set the number of points to sample and batch size and parse the dataset. This can take\n",
    "~5minutes to complete.\n"
   ]
  },
  {
   "cell_type": "code",
   "execution_count": 15,
   "metadata": {
    "colab": {
     "base_uri": "https://localhost:8080/"
    },
    "id": "RUfSsCCaNfJ0",
    "outputId": "953bd31a-ec60-4683-e8e4-11df74e02db6"
   },
   "outputs": [
    {
     "name": "stdout",
     "output_type": "stream",
     "text": [
      "processing class: chair\n",
      "processing class: bed\n",
      "processing class: dresser\n",
      "processing class: sofa\n",
      "processing class: bathtub\n",
      "processing class: desk\n",
      "processing class: toilet\n",
      "processing class: night_stand\n",
      "processing class: monitor\n",
      "processing class: table\n"
     ]
    }
   ],
   "source": [
    "NUM_POINTS = 2048\n",
    "NUM_CLASSES = 10\n",
    "BATCH_SIZE = 32\n",
    "\n",
    "train_points, test_points, train_labels, test_labels, CLASS_MAP = parse_dataset(\n",
    "    NUM_POINTS\n",
    ")\n"
   ]
  },
  {
   "cell_type": "code",
   "execution_count": 16,
   "metadata": {
    "colab": {
     "base_uri": "https://localhost:8080/"
    },
    "id": "ZwmfviiKa7pv",
    "outputId": "2615785d-c411-41db-df49-3f332c6bd784"
   },
   "outputs": [
    {
     "data": {
      "text/plain": [
       "(3991, 2048, 3)"
      ]
     },
     "execution_count": 16,
     "metadata": {},
     "output_type": "execute_result"
    }
   ],
   "source": [
    "train_points.shape"
   ]
  },
  {
   "cell_type": "code",
   "execution_count": 17,
   "metadata": {
    "id": "co_FhIOufKPi"
   },
   "outputs": [],
   "source": [
    "def centralize_shapes(points, scale=.95):\n",
    "   center = np.mean(points, axis=-1, keepdims=True)\n",
    "  #  print(center.shape)\n",
    "   diam = .5 * (np.amax(points, axis=(-2,-1), keepdims=True) - np.amin(points, axis=(-2,-1), keepdims=True))\n",
    "  #  print(diam.shape)\n",
    "   return scale* (points - center)/diam"
   ]
  },
  {
   "cell_type": "code",
   "execution_count": 18,
   "metadata": {
    "id": "1ZDMRjU_pFEf"
   },
   "outputs": [],
   "source": [
    "train_points = centralize_shapes(train_points)\n",
    "test_points = centralize_shapes(test_points)"
   ]
  },
  {
   "cell_type": "code",
   "execution_count": 19,
   "metadata": {
    "id": "dF7BdsHUbITe"
   },
   "outputs": [],
   "source": [
    "## create kernels \n",
    "import scipy\n",
    "from tqdm.notebook import trange\n",
    "\n",
    "def create_features(points, epsilon, lambda_par, use_node_feats=False, k_vals=32, choose_from='all'):\n",
    "    left_eigs = []\n",
    "    right_eigs = []\n",
    "\n",
    "    for i in trange(points.shape[0]):\n",
    "      Cs = scipy.spatial.distance.cdist(points[i], points[i], \"minkowski\", p=1)\n",
    "      Cs[Cs > epsilon] = 0\n",
    "      if use_node_feats is False:\n",
    "        Cs = (Cs + Cs.T)/2\n",
    "        eigvals = np.real(np.linalg.eigvals(Cs)) # do exponential outside so that we can try more smoothening factors\n",
    "        if choose_from =='left' :\n",
    "          left_eigs.append(np.sort(eigvals)[: k_vals])\n",
    "        elif choose_from == 'right' :\n",
    "          right_eigs.append(np.sort(eigvals)[-k_vals :])\n",
    "        else : \n",
    "          a = np.sort(eigvals)\n",
    "          left_eigs.append(a[: k_vals]), right_eigs.append(a[-k_vals :])\n",
    "\n",
    "      else :\n",
    "        Cs1 = scipy.linalg.expm(lambda_par * Cs) # can be vectorized\n",
    "        Cs1 = (\n",
    "        Cs1 + Cs1.T\n",
    "        ) / 2\n",
    "\n",
    "        right_eigs.append(np.mean(np.einsum(\"ij, jk -> ik\", Cs1, points[i]), axis=0))\n",
    "\n",
    "    return left_eigs, right_eigs\n",
    "    \n"
   ]
  },
  {
   "cell_type": "code",
   "execution_count": 20,
   "metadata": {
    "id": "hkS68sNcfGmM"
   },
   "outputs": [],
   "source": [
    "epsilon = .1\n",
    "lambda_par = .5"
   ]
  },
  {
   "cell_type": "code",
   "execution_count": 21,
   "metadata": {
    "colab": {
     "base_uri": "https://localhost:8080/",
     "height": 49,
     "referenced_widgets": [
      "fd10ac5185364fb188fb13b3eea26ffb",
      "09057bbe757744f58875b993cd5cc531",
      "726f3e88b89140ed873947c4b216ceaf",
      "87fcc2f0536c4fa8a07445d35d5c8649",
      "24c82526b726419eaebc44adaaa18513",
      "916f75ae6563475287d58973533af15a",
      "984103d8a4964b14bfa8599651e007cb",
      "c89e9a4e4e5840a2b72b67a80098ec28",
      "9bf3fa039eb9497fb85affb6fa287126",
      "f563ec4e6b454cd0a76627045ee0dfc4",
      "c1e151d0520d467084e4c0dc0893352b"
     ]
    },
    "id": "WCQTV9dQbIV2",
    "outputId": "abaa1144-4b4a-400c-be04-dfc4ab486b50"
   },
   "outputs": [
    {
     "data": {
      "application/vnd.jupyter.widget-view+json": {
       "model_id": "74eb035d7713475fad16304a321698bf",
       "version_major": 2,
       "version_minor": 0
      },
      "text/plain": [
       "  0%|          | 0/3991 [00:00<?, ?it/s]"
      ]
     },
     "metadata": {},
     "output_type": "display_data"
    }
   ],
   "source": [
    "train_feats = create_features(train_points, epsilon=epsilon, lambda_par=lambda_par)\n"
   ]
  },
  {
   "cell_type": "code",
   "execution_count": 22,
   "metadata": {
    "colab": {
     "base_uri": "https://localhost:8080/"
    },
    "id": "uOmJdn0xOph2",
    "outputId": "1fe5592d-6513-4185-b7f0-22f73ceef37c"
   },
   "outputs": [
    {
     "data": {
      "text/plain": [
       "3991"
      ]
     },
     "execution_count": 22,
     "metadata": {},
     "output_type": "execute_result"
    }
   ],
   "source": [
    "len(train_feats[0])"
   ]
  },
  {
   "cell_type": "code",
   "execution_count": 23,
   "metadata": {
    "colab": {
     "base_uri": "https://localhost:8080/",
     "height": 49,
     "referenced_widgets": [
      "82a04ef6f1b246a58455486a3e4e9fa6",
      "8817a8c8da1d48c395e1ea66bf0a9244",
      "096c06e9f4694daea23f4bf47b672313",
      "ab0724a61e25457b9645067375319b31",
      "6cf75415b0274883a3089f37b8960617",
      "e9638c52bb8b4c62ab38772ae5e01a80",
      "2ad24aa593234f0796140230b60bdf72",
      "aa8d193361a7409f8848be295599e9ff",
      "c433b924c9114642a1f39a6309bf0434",
      "f52305abc1684ff9a5fcf296d452c5ba",
      "b37a532a49f84953a40faacbe60f7d9a"
     ]
    },
    "id": "IrYm265kvj6b",
    "outputId": "c265c457-510a-4099-b6ba-8786d82214f1"
   },
   "outputs": [
    {
     "data": {
      "application/vnd.jupyter.widget-view+json": {
       "model_id": "362363a4700a4108bff74d20466397b5",
       "version_major": 2,
       "version_minor": 0
      },
      "text/plain": [
       "  0%|          | 0/908 [00:00<?, ?it/s]"
      ]
     },
     "metadata": {},
     "output_type": "display_data"
    }
   ],
   "source": [
    "test_feats = create_features(test_points, epsilon=epsilon, lambda_par=lambda_par)"
   ]
  },
  {
   "cell_type": "code",
   "execution_count": 24,
   "metadata": {
    "id": "BLt13zG3vj9B"
   },
   "outputs": [],
   "source": [
    "from sklearn.ensemble import RandomForestClassifier\n",
    "from sklearn.metrics import classification_report"
   ]
  },
  {
   "cell_type": "code",
   "execution_count": 25,
   "metadata": {
    "colab": {
     "base_uri": "https://localhost:8080/"
    },
    "id": "VyYdHIpQvj_L",
    "outputId": "e78d5ad5-6354-47ba-9026-660153168ea0"
   },
   "outputs": [
    {
     "name": "stdout",
     "output_type": "stream",
     "text": [
      "Epsilon is 0.5 and depth is 10\n",
      "              precision    recall  f1-score   support\n",
      "\n",
      "           0       0.35      0.56      0.43       100\n",
      "           1       0.15      0.29      0.19       100\n",
      "           2       0.43      0.42      0.42        86\n",
      "           3       0.29      0.50      0.36       100\n",
      "           4       0.00      0.00      0.00        50\n",
      "           5       0.00      0.00      0.00        86\n",
      "           6       0.29      0.17      0.22       100\n",
      "           7       0.35      0.26      0.30        86\n",
      "           8       0.22      0.34      0.27       100\n",
      "           9       0.05      0.01      0.02       100\n",
      "\n",
      "    accuracy                           0.27       908\n",
      "   macro avg       0.21      0.25      0.22       908\n",
      "weighted avg       0.22      0.27      0.23       908\n",
      "\n",
      "****************************************\n"
     ]
    },
    {
     "name": "stderr",
     "output_type": "stream",
     "text": [
      "/home/david/anaconda3/envs/topographers/lib/python3.10/site-packages/sklearn/metrics/_classification.py:1344: UndefinedMetricWarning: Precision and F-score are ill-defined and being set to 0.0 in labels with no predicted samples. Use `zero_division` parameter to control this behavior.\n",
      "  _warn_prf(average, modifier, msg_start, len(result))\n",
      "/home/david/anaconda3/envs/topographers/lib/python3.10/site-packages/sklearn/metrics/_classification.py:1344: UndefinedMetricWarning: Precision and F-score are ill-defined and being set to 0.0 in labels with no predicted samples. Use `zero_division` parameter to control this behavior.\n",
      "  _warn_prf(average, modifier, msg_start, len(result))\n",
      "/home/david/anaconda3/envs/topographers/lib/python3.10/site-packages/sklearn/metrics/_classification.py:1344: UndefinedMetricWarning: Precision and F-score are ill-defined and being set to 0.0 in labels with no predicted samples. Use `zero_division` parameter to control this behavior.\n",
      "  _warn_prf(average, modifier, msg_start, len(result))\n"
     ]
    },
    {
     "name": "stdout",
     "output_type": "stream",
     "text": [
      "Epsilon is 0.5 and depth is 15\n",
      "              precision    recall  f1-score   support\n",
      "\n",
      "           0       0.34      0.54      0.42       100\n",
      "           1       0.13      0.24      0.17       100\n",
      "           2       0.46      0.43      0.44        86\n",
      "           3       0.29      0.46      0.35       100\n",
      "           4       0.00      0.00      0.00        50\n",
      "           5       0.00      0.00      0.00        86\n",
      "           6       0.31      0.22      0.26       100\n",
      "           7       0.38      0.24      0.30        86\n",
      "           8       0.21      0.33      0.26       100\n",
      "           9       0.13      0.05      0.07       100\n",
      "\n",
      "    accuracy                           0.27       908\n",
      "   macro avg       0.22      0.25      0.23       908\n",
      "weighted avg       0.23      0.27      0.24       908\n",
      "\n",
      "****************************************\n"
     ]
    },
    {
     "name": "stderr",
     "output_type": "stream",
     "text": [
      "/home/david/anaconda3/envs/topographers/lib/python3.10/site-packages/sklearn/metrics/_classification.py:1344: UndefinedMetricWarning: Precision and F-score are ill-defined and being set to 0.0 in labels with no predicted samples. Use `zero_division` parameter to control this behavior.\n",
      "  _warn_prf(average, modifier, msg_start, len(result))\n",
      "/home/david/anaconda3/envs/topographers/lib/python3.10/site-packages/sklearn/metrics/_classification.py:1344: UndefinedMetricWarning: Precision and F-score are ill-defined and being set to 0.0 in labels with no predicted samples. Use `zero_division` parameter to control this behavior.\n",
      "  _warn_prf(average, modifier, msg_start, len(result))\n",
      "/home/david/anaconda3/envs/topographers/lib/python3.10/site-packages/sklearn/metrics/_classification.py:1344: UndefinedMetricWarning: Precision and F-score are ill-defined and being set to 0.0 in labels with no predicted samples. Use `zero_division` parameter to control this behavior.\n",
      "  _warn_prf(average, modifier, msg_start, len(result))\n"
     ]
    },
    {
     "name": "stdout",
     "output_type": "stream",
     "text": [
      "Epsilon is 0.5 and depth is 20\n",
      "              precision    recall  f1-score   support\n",
      "\n",
      "           0       0.34      0.55      0.42       100\n",
      "           1       0.14      0.26      0.18       100\n",
      "           2       0.44      0.41      0.42        86\n",
      "           3       0.28      0.46      0.35       100\n",
      "           4       0.00      0.00      0.00        50\n",
      "           5       0.00      0.00      0.00        86\n",
      "           6       0.29      0.15      0.20       100\n",
      "           7       0.37      0.27      0.31        86\n",
      "           8       0.18      0.28      0.22       100\n",
      "           9       0.08      0.03      0.04       100\n",
      "\n",
      "    accuracy                           0.25       908\n",
      "   macro avg       0.21      0.24      0.21       908\n",
      "weighted avg       0.22      0.25      0.22       908\n",
      "\n",
      "****************************************\n",
      "Epsilon is 0.5 and depth is 25\n",
      "              precision    recall  f1-score   support\n",
      "\n",
      "           0       0.36      0.60      0.45       100\n",
      "           1       0.15      0.27      0.19       100\n",
      "           2       0.44      0.40      0.41        86\n",
      "           3       0.28      0.45      0.34       100\n",
      "           4       0.00      0.00      0.00        50\n",
      "           5       0.00      0.00      0.00        86\n",
      "           6       0.35      0.23      0.28       100\n",
      "           7       0.38      0.27      0.31        86\n",
      "           8       0.21      0.31      0.25       100\n",
      "           9       0.08      0.03      0.04       100\n",
      "\n",
      "    accuracy                           0.27       908\n",
      "   macro avg       0.22      0.26      0.23       908\n",
      "weighted avg       0.23      0.27      0.24       908\n",
      "\n",
      "****************************************\n",
      "Epsilon is 0.1 and depth is 10\n",
      "              precision    recall  f1-score   support\n",
      "\n",
      "           0       0.36      0.56      0.44       100\n",
      "           1       0.17      0.34      0.23       100\n",
      "           2       0.44      0.44      0.44        86\n",
      "           3       0.29      0.51      0.37       100\n",
      "           4       0.00      0.00      0.00        50\n",
      "           5       0.00      0.00      0.00        86\n",
      "           6       0.30      0.18      0.22       100\n",
      "           7       0.38      0.27      0.31        86\n",
      "           8       0.24      0.36      0.29       100\n",
      "           9       0.06      0.01      0.02       100\n",
      "\n",
      "    accuracy                           0.28       908\n",
      "   macro avg       0.22      0.27      0.23       908\n",
      "weighted avg       0.23      0.28      0.24       908\n",
      "\n",
      "****************************************\n"
     ]
    },
    {
     "name": "stderr",
     "output_type": "stream",
     "text": [
      "/home/david/anaconda3/envs/topographers/lib/python3.10/site-packages/sklearn/metrics/_classification.py:1344: UndefinedMetricWarning: Precision and F-score are ill-defined and being set to 0.0 in labels with no predicted samples. Use `zero_division` parameter to control this behavior.\n",
      "  _warn_prf(average, modifier, msg_start, len(result))\n",
      "/home/david/anaconda3/envs/topographers/lib/python3.10/site-packages/sklearn/metrics/_classification.py:1344: UndefinedMetricWarning: Precision and F-score are ill-defined and being set to 0.0 in labels with no predicted samples. Use `zero_division` parameter to control this behavior.\n",
      "  _warn_prf(average, modifier, msg_start, len(result))\n",
      "/home/david/anaconda3/envs/topographers/lib/python3.10/site-packages/sklearn/metrics/_classification.py:1344: UndefinedMetricWarning: Precision and F-score are ill-defined and being set to 0.0 in labels with no predicted samples. Use `zero_division` parameter to control this behavior.\n",
      "  _warn_prf(average, modifier, msg_start, len(result))\n"
     ]
    },
    {
     "name": "stdout",
     "output_type": "stream",
     "text": [
      "Epsilon is 0.1 and depth is 15\n",
      "              precision    recall  f1-score   support\n",
      "\n",
      "           0       0.35      0.54      0.42       100\n",
      "           1       0.14      0.25      0.18       100\n",
      "           2       0.43      0.41      0.42        86\n",
      "           3       0.29      0.47      0.36       100\n",
      "           4       0.00      0.00      0.00        50\n",
      "           5       0.00      0.00      0.00        86\n",
      "           6       0.32      0.24      0.27       100\n",
      "           7       0.41      0.27      0.32        86\n",
      "           8       0.21      0.32      0.25       100\n",
      "           9       0.11      0.04      0.06       100\n",
      "\n",
      "    accuracy                           0.27       908\n",
      "   macro avg       0.23      0.25      0.23       908\n",
      "weighted avg       0.24      0.27      0.24       908\n",
      "\n",
      "****************************************\n"
     ]
    },
    {
     "name": "stderr",
     "output_type": "stream",
     "text": [
      "/home/david/anaconda3/envs/topographers/lib/python3.10/site-packages/sklearn/metrics/_classification.py:1344: UndefinedMetricWarning: Precision and F-score are ill-defined and being set to 0.0 in labels with no predicted samples. Use `zero_division` parameter to control this behavior.\n",
      "  _warn_prf(average, modifier, msg_start, len(result))\n",
      "/home/david/anaconda3/envs/topographers/lib/python3.10/site-packages/sklearn/metrics/_classification.py:1344: UndefinedMetricWarning: Precision and F-score are ill-defined and being set to 0.0 in labels with no predicted samples. Use `zero_division` parameter to control this behavior.\n",
      "  _warn_prf(average, modifier, msg_start, len(result))\n",
      "/home/david/anaconda3/envs/topographers/lib/python3.10/site-packages/sklearn/metrics/_classification.py:1344: UndefinedMetricWarning: Precision and F-score are ill-defined and being set to 0.0 in labels with no predicted samples. Use `zero_division` parameter to control this behavior.\n",
      "  _warn_prf(average, modifier, msg_start, len(result))\n"
     ]
    },
    {
     "name": "stdout",
     "output_type": "stream",
     "text": [
      "Epsilon is 0.1 and depth is 20\n",
      "              precision    recall  f1-score   support\n",
      "\n",
      "           0       0.34      0.55      0.42       100\n",
      "           1       0.13      0.25      0.17       100\n",
      "           2       0.48      0.43      0.45        86\n",
      "           3       0.27      0.45      0.34       100\n",
      "           4       0.00      0.00      0.00        50\n",
      "           5       0.12      0.01      0.02        86\n",
      "           6       0.27      0.14      0.18       100\n",
      "           7       0.44      0.30      0.36        86\n",
      "           8       0.21      0.32      0.25       100\n",
      "           9       0.09      0.04      0.06       100\n",
      "\n",
      "    accuracy                           0.26       908\n",
      "   macro avg       0.24      0.25      0.23       908\n",
      "weighted avg       0.24      0.26      0.24       908\n",
      "\n",
      "****************************************\n"
     ]
    },
    {
     "name": "stderr",
     "output_type": "stream",
     "text": [
      "/home/david/anaconda3/envs/topographers/lib/python3.10/site-packages/sklearn/metrics/_classification.py:1344: UndefinedMetricWarning: Precision and F-score are ill-defined and being set to 0.0 in labels with no predicted samples. Use `zero_division` parameter to control this behavior.\n",
      "  _warn_prf(average, modifier, msg_start, len(result))\n",
      "/home/david/anaconda3/envs/topographers/lib/python3.10/site-packages/sklearn/metrics/_classification.py:1344: UndefinedMetricWarning: Precision and F-score are ill-defined and being set to 0.0 in labels with no predicted samples. Use `zero_division` parameter to control this behavior.\n",
      "  _warn_prf(average, modifier, msg_start, len(result))\n",
      "/home/david/anaconda3/envs/topographers/lib/python3.10/site-packages/sklearn/metrics/_classification.py:1344: UndefinedMetricWarning: Precision and F-score are ill-defined and being set to 0.0 in labels with no predicted samples. Use `zero_division` parameter to control this behavior.\n",
      "  _warn_prf(average, modifier, msg_start, len(result))\n"
     ]
    },
    {
     "name": "stdout",
     "output_type": "stream",
     "text": [
      "Epsilon is 0.1 and depth is 25\n",
      "              precision    recall  f1-score   support\n",
      "\n",
      "           0       0.34      0.58      0.43       100\n",
      "           1       0.17      0.30      0.21       100\n",
      "           2       0.44      0.41      0.42        86\n",
      "           3       0.28      0.45      0.35       100\n",
      "           4       0.00      0.00      0.00        50\n",
      "           5       0.00      0.00      0.00        86\n",
      "           6       0.35      0.23      0.28       100\n",
      "           7       0.38      0.26      0.31        86\n",
      "           8       0.20      0.29      0.23       100\n",
      "           9       0.07      0.03      0.04       100\n",
      "\n",
      "    accuracy                           0.27       908\n",
      "   macro avg       0.22      0.25      0.23       908\n",
      "weighted avg       0.23      0.27      0.24       908\n",
      "\n",
      "****************************************\n"
     ]
    },
    {
     "name": "stderr",
     "output_type": "stream",
     "text": [
      "/home/david/anaconda3/envs/topographers/lib/python3.10/site-packages/sklearn/metrics/_classification.py:1344: UndefinedMetricWarning: Precision and F-score are ill-defined and being set to 0.0 in labels with no predicted samples. Use `zero_division` parameter to control this behavior.\n",
      "  _warn_prf(average, modifier, msg_start, len(result))\n",
      "/home/david/anaconda3/envs/topographers/lib/python3.10/site-packages/sklearn/metrics/_classification.py:1344: UndefinedMetricWarning: Precision and F-score are ill-defined and being set to 0.0 in labels with no predicted samples. Use `zero_division` parameter to control this behavior.\n",
      "  _warn_prf(average, modifier, msg_start, len(result))\n",
      "/home/david/anaconda3/envs/topographers/lib/python3.10/site-packages/sklearn/metrics/_classification.py:1344: UndefinedMetricWarning: Precision and F-score are ill-defined and being set to 0.0 in labels with no predicted samples. Use `zero_division` parameter to control this behavior.\n",
      "  _warn_prf(average, modifier, msg_start, len(result))\n"
     ]
    },
    {
     "name": "stdout",
     "output_type": "stream",
     "text": [
      "Epsilon is -0.5 and depth is 10\n",
      "              precision    recall  f1-score   support\n",
      "\n",
      "           0       0.36      0.57      0.44       100\n",
      "           1       0.15      0.31      0.20       100\n",
      "           2       0.47      0.42      0.44        86\n",
      "           3       0.29      0.53      0.38       100\n",
      "           4       0.00      0.00      0.00        50\n",
      "           5       0.00      0.00      0.00        86\n",
      "           6       0.32      0.18      0.23       100\n",
      "           7       0.39      0.27      0.32        86\n",
      "           8       0.23      0.34      0.27       100\n",
      "           9       0.09      0.02      0.03       100\n",
      "\n",
      "    accuracy                           0.28       908\n",
      "   macro avg       0.23      0.26      0.23       908\n",
      "weighted avg       0.24      0.28      0.24       908\n",
      "\n",
      "****************************************\n"
     ]
    },
    {
     "name": "stderr",
     "output_type": "stream",
     "text": [
      "/home/david/anaconda3/envs/topographers/lib/python3.10/site-packages/sklearn/metrics/_classification.py:1344: UndefinedMetricWarning: Precision and F-score are ill-defined and being set to 0.0 in labels with no predicted samples. Use `zero_division` parameter to control this behavior.\n",
      "  _warn_prf(average, modifier, msg_start, len(result))\n",
      "/home/david/anaconda3/envs/topographers/lib/python3.10/site-packages/sklearn/metrics/_classification.py:1344: UndefinedMetricWarning: Precision and F-score are ill-defined and being set to 0.0 in labels with no predicted samples. Use `zero_division` parameter to control this behavior.\n",
      "  _warn_prf(average, modifier, msg_start, len(result))\n",
      "/home/david/anaconda3/envs/topographers/lib/python3.10/site-packages/sklearn/metrics/_classification.py:1344: UndefinedMetricWarning: Precision and F-score are ill-defined and being set to 0.0 in labels with no predicted samples. Use `zero_division` parameter to control this behavior.\n",
      "  _warn_prf(average, modifier, msg_start, len(result))\n"
     ]
    },
    {
     "name": "stdout",
     "output_type": "stream",
     "text": [
      "Epsilon is -0.5 and depth is 15\n",
      "              precision    recall  f1-score   support\n",
      "\n",
      "           0       0.36      0.57      0.44       100\n",
      "           1       0.16      0.29      0.20       100\n",
      "           2       0.44      0.43      0.43        86\n",
      "           3       0.29      0.50      0.37       100\n",
      "           4       0.00      0.00      0.00        50\n",
      "           5       0.00      0.00      0.00        86\n",
      "           6       0.37      0.23      0.28       100\n",
      "           7       0.37      0.23      0.29        86\n",
      "           8       0.20      0.30      0.24       100\n",
      "           9       0.12      0.05      0.07       100\n",
      "\n",
      "    accuracy                           0.28       908\n",
      "   macro avg       0.23      0.26      0.23       908\n",
      "weighted avg       0.24      0.28      0.25       908\n",
      "\n",
      "****************************************\n"
     ]
    },
    {
     "name": "stderr",
     "output_type": "stream",
     "text": [
      "/home/david/anaconda3/envs/topographers/lib/python3.10/site-packages/sklearn/metrics/_classification.py:1344: UndefinedMetricWarning: Precision and F-score are ill-defined and being set to 0.0 in labels with no predicted samples. Use `zero_division` parameter to control this behavior.\n",
      "  _warn_prf(average, modifier, msg_start, len(result))\n",
      "/home/david/anaconda3/envs/topographers/lib/python3.10/site-packages/sklearn/metrics/_classification.py:1344: UndefinedMetricWarning: Precision and F-score are ill-defined and being set to 0.0 in labels with no predicted samples. Use `zero_division` parameter to control this behavior.\n",
      "  _warn_prf(average, modifier, msg_start, len(result))\n",
      "/home/david/anaconda3/envs/topographers/lib/python3.10/site-packages/sklearn/metrics/_classification.py:1344: UndefinedMetricWarning: Precision and F-score are ill-defined and being set to 0.0 in labels with no predicted samples. Use `zero_division` parameter to control this behavior.\n",
      "  _warn_prf(average, modifier, msg_start, len(result))\n"
     ]
    },
    {
     "name": "stdout",
     "output_type": "stream",
     "text": [
      "Epsilon is -0.5 and depth is 20\n",
      "              precision    recall  f1-score   support\n",
      "\n",
      "           0       0.34      0.54      0.42       100\n",
      "           1       0.15      0.25      0.19       100\n",
      "           2       0.42      0.41      0.41        86\n",
      "           3       0.32      0.55      0.40       100\n",
      "           4       0.00      0.00      0.00        50\n",
      "           5       0.00      0.00      0.00        86\n",
      "           6       0.26      0.18      0.21       100\n",
      "           7       0.34      0.22      0.27        86\n",
      "           8       0.23      0.35      0.27       100\n",
      "           9       0.11      0.04      0.06       100\n",
      "\n",
      "    accuracy                           0.27       908\n",
      "   macro avg       0.22      0.25      0.22       908\n",
      "weighted avg       0.23      0.27      0.24       908\n",
      "\n",
      "****************************************\n"
     ]
    },
    {
     "name": "stderr",
     "output_type": "stream",
     "text": [
      "/home/david/anaconda3/envs/topographers/lib/python3.10/site-packages/sklearn/metrics/_classification.py:1344: UndefinedMetricWarning: Precision and F-score are ill-defined and being set to 0.0 in labels with no predicted samples. Use `zero_division` parameter to control this behavior.\n",
      "  _warn_prf(average, modifier, msg_start, len(result))\n",
      "/home/david/anaconda3/envs/topographers/lib/python3.10/site-packages/sklearn/metrics/_classification.py:1344: UndefinedMetricWarning: Precision and F-score are ill-defined and being set to 0.0 in labels with no predicted samples. Use `zero_division` parameter to control this behavior.\n",
      "  _warn_prf(average, modifier, msg_start, len(result))\n",
      "/home/david/anaconda3/envs/topographers/lib/python3.10/site-packages/sklearn/metrics/_classification.py:1344: UndefinedMetricWarning: Precision and F-score are ill-defined and being set to 0.0 in labels with no predicted samples. Use `zero_division` parameter to control this behavior.\n",
      "  _warn_prf(average, modifier, msg_start, len(result))\n"
     ]
    },
    {
     "name": "stdout",
     "output_type": "stream",
     "text": [
      "Epsilon is -0.5 and depth is 25\n",
      "              precision    recall  f1-score   support\n",
      "\n",
      "           0       0.33      0.55      0.41       100\n",
      "           1       0.16      0.28      0.21       100\n",
      "           2       0.40      0.38      0.39        86\n",
      "           3       0.31      0.48      0.38       100\n",
      "           4       0.00      0.00      0.00        50\n",
      "           5       0.00      0.00      0.00        86\n",
      "           6       0.36      0.25      0.30       100\n",
      "           7       0.33      0.22      0.27        86\n",
      "           8       0.22      0.33      0.26       100\n",
      "           9       0.10      0.04      0.06       100\n",
      "\n",
      "    accuracy                           0.27       908\n",
      "   macro avg       0.22      0.25      0.23       908\n",
      "weighted avg       0.23      0.27      0.24       908\n",
      "\n",
      "****************************************\n"
     ]
    },
    {
     "name": "stderr",
     "output_type": "stream",
     "text": [
      "/home/david/anaconda3/envs/topographers/lib/python3.10/site-packages/sklearn/metrics/_classification.py:1344: UndefinedMetricWarning: Precision and F-score are ill-defined and being set to 0.0 in labels with no predicted samples. Use `zero_division` parameter to control this behavior.\n",
      "  _warn_prf(average, modifier, msg_start, len(result))\n",
      "/home/david/anaconda3/envs/topographers/lib/python3.10/site-packages/sklearn/metrics/_classification.py:1344: UndefinedMetricWarning: Precision and F-score are ill-defined and being set to 0.0 in labels with no predicted samples. Use `zero_division` parameter to control this behavior.\n",
      "  _warn_prf(average, modifier, msg_start, len(result))\n",
      "/home/david/anaconda3/envs/topographers/lib/python3.10/site-packages/sklearn/metrics/_classification.py:1344: UndefinedMetricWarning: Precision and F-score are ill-defined and being set to 0.0 in labels with no predicted samples. Use `zero_division` parameter to control this behavior.\n",
      "  _warn_prf(average, modifier, msg_start, len(result))\n"
     ]
    },
    {
     "name": "stdout",
     "output_type": "stream",
     "text": [
      "Epsilon is -0.1 and depth is 10\n",
      "              precision    recall  f1-score   support\n",
      "\n",
      "           0       0.36      0.57      0.44       100\n",
      "           1       0.15      0.30      0.20       100\n",
      "           2       0.47      0.42      0.44        86\n",
      "           3       0.29      0.53      0.38       100\n",
      "           4       0.00      0.00      0.00        50\n",
      "           5       0.00      0.00      0.00        86\n",
      "           6       0.29      0.17      0.22       100\n",
      "           7       0.38      0.26      0.31        86\n",
      "           8       0.23      0.34      0.27       100\n",
      "           9       0.09      0.02      0.03       100\n",
      "\n",
      "    accuracy                           0.28       908\n",
      "   macro avg       0.23      0.26      0.23       908\n",
      "weighted avg       0.24      0.28      0.24       908\n",
      "\n",
      "****************************************\n"
     ]
    },
    {
     "name": "stderr",
     "output_type": "stream",
     "text": [
      "/home/david/anaconda3/envs/topographers/lib/python3.10/site-packages/sklearn/metrics/_classification.py:1344: UndefinedMetricWarning: Precision and F-score are ill-defined and being set to 0.0 in labels with no predicted samples. Use `zero_division` parameter to control this behavior.\n",
      "  _warn_prf(average, modifier, msg_start, len(result))\n",
      "/home/david/anaconda3/envs/topographers/lib/python3.10/site-packages/sklearn/metrics/_classification.py:1344: UndefinedMetricWarning: Precision and F-score are ill-defined and being set to 0.0 in labels with no predicted samples. Use `zero_division` parameter to control this behavior.\n",
      "  _warn_prf(average, modifier, msg_start, len(result))\n",
      "/home/david/anaconda3/envs/topographers/lib/python3.10/site-packages/sklearn/metrics/_classification.py:1344: UndefinedMetricWarning: Precision and F-score are ill-defined and being set to 0.0 in labels with no predicted samples. Use `zero_division` parameter to control this behavior.\n",
      "  _warn_prf(average, modifier, msg_start, len(result))\n"
     ]
    },
    {
     "name": "stdout",
     "output_type": "stream",
     "text": [
      "Epsilon is -0.1 and depth is 15\n",
      "              precision    recall  f1-score   support\n",
      "\n",
      "           0       0.38      0.58      0.46       100\n",
      "           1       0.15      0.26      0.19       100\n",
      "           2       0.43      0.42      0.42        86\n",
      "           3       0.30      0.52      0.38       100\n",
      "           4       0.00      0.00      0.00        50\n",
      "           5       0.00      0.00      0.00        86\n",
      "           6       0.36      0.24      0.29       100\n",
      "           7       0.34      0.21      0.26        86\n",
      "           8       0.21      0.33      0.26       100\n",
      "           9       0.14      0.05      0.07       100\n",
      "\n",
      "    accuracy                           0.28       908\n",
      "   macro avg       0.23      0.26      0.23       908\n",
      "weighted avg       0.24      0.28      0.25       908\n",
      "\n",
      "****************************************\n"
     ]
    },
    {
     "name": "stderr",
     "output_type": "stream",
     "text": [
      "/home/david/anaconda3/envs/topographers/lib/python3.10/site-packages/sklearn/metrics/_classification.py:1344: UndefinedMetricWarning: Precision and F-score are ill-defined and being set to 0.0 in labels with no predicted samples. Use `zero_division` parameter to control this behavior.\n",
      "  _warn_prf(average, modifier, msg_start, len(result))\n",
      "/home/david/anaconda3/envs/topographers/lib/python3.10/site-packages/sklearn/metrics/_classification.py:1344: UndefinedMetricWarning: Precision and F-score are ill-defined and being set to 0.0 in labels with no predicted samples. Use `zero_division` parameter to control this behavior.\n",
      "  _warn_prf(average, modifier, msg_start, len(result))\n",
      "/home/david/anaconda3/envs/topographers/lib/python3.10/site-packages/sklearn/metrics/_classification.py:1344: UndefinedMetricWarning: Precision and F-score are ill-defined and being set to 0.0 in labels with no predicted samples. Use `zero_division` parameter to control this behavior.\n",
      "  _warn_prf(average, modifier, msg_start, len(result))\n"
     ]
    },
    {
     "name": "stdout",
     "output_type": "stream",
     "text": [
      "Epsilon is -0.1 and depth is 20\n",
      "              precision    recall  f1-score   support\n",
      "\n",
      "           0       0.34      0.56      0.43       100\n",
      "           1       0.15      0.25      0.19       100\n",
      "           2       0.43      0.42      0.43        86\n",
      "           3       0.30      0.52      0.38       100\n",
      "           4       0.00      0.00      0.00        50\n",
      "           5       0.00      0.00      0.00        86\n",
      "           6       0.31      0.21      0.25       100\n",
      "           7       0.37      0.23      0.29        86\n",
      "           8       0.21      0.32      0.26       100\n",
      "           9       0.12      0.05      0.07       100\n",
      "\n",
      "    accuracy                           0.27       908\n",
      "   macro avg       0.23      0.26      0.23       908\n",
      "weighted avg       0.24      0.27      0.24       908\n",
      "\n",
      "****************************************\n"
     ]
    },
    {
     "name": "stderr",
     "output_type": "stream",
     "text": [
      "/home/david/anaconda3/envs/topographers/lib/python3.10/site-packages/sklearn/metrics/_classification.py:1344: UndefinedMetricWarning: Precision and F-score are ill-defined and being set to 0.0 in labels with no predicted samples. Use `zero_division` parameter to control this behavior.\n",
      "  _warn_prf(average, modifier, msg_start, len(result))\n",
      "/home/david/anaconda3/envs/topographers/lib/python3.10/site-packages/sklearn/metrics/_classification.py:1344: UndefinedMetricWarning: Precision and F-score are ill-defined and being set to 0.0 in labels with no predicted samples. Use `zero_division` parameter to control this behavior.\n",
      "  _warn_prf(average, modifier, msg_start, len(result))\n",
      "/home/david/anaconda3/envs/topographers/lib/python3.10/site-packages/sklearn/metrics/_classification.py:1344: UndefinedMetricWarning: Precision and F-score are ill-defined and being set to 0.0 in labels with no predicted samples. Use `zero_division` parameter to control this behavior.\n",
      "  _warn_prf(average, modifier, msg_start, len(result))\n"
     ]
    },
    {
     "name": "stdout",
     "output_type": "stream",
     "text": [
      "Epsilon is -0.1 and depth is 25\n",
      "              precision    recall  f1-score   support\n",
      "\n",
      "           0       0.34      0.57      0.43       100\n",
      "           1       0.15      0.25      0.19       100\n",
      "           2       0.42      0.42      0.42        86\n",
      "           3       0.31      0.48      0.37       100\n",
      "           4       0.00      0.00      0.00        50\n",
      "           5       0.00      0.00      0.00        86\n",
      "           6       0.36      0.25      0.29       100\n",
      "           7       0.36      0.23      0.28        86\n",
      "           8       0.20      0.31      0.25       100\n",
      "           9       0.07      0.03      0.04       100\n",
      "\n",
      "    accuracy                           0.27       908\n",
      "   macro avg       0.22      0.25      0.23       908\n",
      "weighted avg       0.23      0.27      0.24       908\n",
      "\n",
      "****************************************\n",
      "Epsilon is -1.0 and depth is 10\n",
      "              precision    recall  f1-score   support\n",
      "\n",
      "           0       0.37      0.58      0.45       100\n",
      "           1       0.15      0.31      0.20       100\n",
      "           2       0.47      0.42      0.44        86\n",
      "           3       0.29      0.53      0.38       100\n",
      "           4       0.00      0.00      0.00        50\n",
      "           5       0.00      0.00      0.00        86\n",
      "           6       0.32      0.18      0.23       100\n",
      "           7       0.39      0.27      0.32        86\n",
      "           8       0.23      0.34      0.27       100\n",
      "           9       0.09      0.02      0.03       100\n",
      "\n",
      "    accuracy                           0.28       908\n",
      "   macro avg       0.23      0.26      0.23       908\n",
      "weighted avg       0.24      0.28      0.24       908\n",
      "\n",
      "****************************************\n"
     ]
    },
    {
     "name": "stderr",
     "output_type": "stream",
     "text": [
      "/home/david/anaconda3/envs/topographers/lib/python3.10/site-packages/sklearn/metrics/_classification.py:1344: UndefinedMetricWarning: Precision and F-score are ill-defined and being set to 0.0 in labels with no predicted samples. Use `zero_division` parameter to control this behavior.\n",
      "  _warn_prf(average, modifier, msg_start, len(result))\n",
      "/home/david/anaconda3/envs/topographers/lib/python3.10/site-packages/sklearn/metrics/_classification.py:1344: UndefinedMetricWarning: Precision and F-score are ill-defined and being set to 0.0 in labels with no predicted samples. Use `zero_division` parameter to control this behavior.\n",
      "  _warn_prf(average, modifier, msg_start, len(result))\n",
      "/home/david/anaconda3/envs/topographers/lib/python3.10/site-packages/sklearn/metrics/_classification.py:1344: UndefinedMetricWarning: Precision and F-score are ill-defined and being set to 0.0 in labels with no predicted samples. Use `zero_division` parameter to control this behavior.\n",
      "  _warn_prf(average, modifier, msg_start, len(result))\n"
     ]
    },
    {
     "name": "stdout",
     "output_type": "stream",
     "text": [
      "Epsilon is -1.0 and depth is 15\n",
      "              precision    recall  f1-score   support\n",
      "\n",
      "           0       0.36      0.56      0.44       100\n",
      "           1       0.16      0.29      0.20       100\n",
      "           2       0.44      0.43      0.43        86\n",
      "           3       0.30      0.52      0.38       100\n",
      "           4       0.00      0.00      0.00        50\n",
      "           5       0.00      0.00      0.00        86\n",
      "           6       0.37      0.23      0.28       100\n",
      "           7       0.37      0.23      0.29        86\n",
      "           8       0.21      0.31      0.25       100\n",
      "           9       0.13      0.05      0.07       100\n",
      "\n",
      "    accuracy                           0.28       908\n",
      "   macro avg       0.23      0.26      0.23       908\n",
      "weighted avg       0.24      0.28      0.25       908\n",
      "\n",
      "****************************************\n"
     ]
    },
    {
     "name": "stderr",
     "output_type": "stream",
     "text": [
      "/home/david/anaconda3/envs/topographers/lib/python3.10/site-packages/sklearn/metrics/_classification.py:1344: UndefinedMetricWarning: Precision and F-score are ill-defined and being set to 0.0 in labels with no predicted samples. Use `zero_division` parameter to control this behavior.\n",
      "  _warn_prf(average, modifier, msg_start, len(result))\n",
      "/home/david/anaconda3/envs/topographers/lib/python3.10/site-packages/sklearn/metrics/_classification.py:1344: UndefinedMetricWarning: Precision and F-score are ill-defined and being set to 0.0 in labels with no predicted samples. Use `zero_division` parameter to control this behavior.\n",
      "  _warn_prf(average, modifier, msg_start, len(result))\n",
      "/home/david/anaconda3/envs/topographers/lib/python3.10/site-packages/sklearn/metrics/_classification.py:1344: UndefinedMetricWarning: Precision and F-score are ill-defined and being set to 0.0 in labels with no predicted samples. Use `zero_division` parameter to control this behavior.\n",
      "  _warn_prf(average, modifier, msg_start, len(result))\n"
     ]
    },
    {
     "name": "stdout",
     "output_type": "stream",
     "text": [
      "Epsilon is -1.0 and depth is 20\n",
      "              precision    recall  f1-score   support\n",
      "\n",
      "           0       0.35      0.55      0.43       100\n",
      "           1       0.14      0.24      0.18       100\n",
      "           2       0.41      0.40      0.40        86\n",
      "           3       0.31      0.53      0.39       100\n",
      "           4       0.00      0.00      0.00        50\n",
      "           5       0.00      0.00      0.00        86\n",
      "           6       0.28      0.19      0.22       100\n",
      "           7       0.33      0.22      0.27        86\n",
      "           8       0.22      0.34      0.27       100\n",
      "           9       0.11      0.04      0.06       100\n",
      "\n",
      "    accuracy                           0.27       908\n",
      "   macro avg       0.21      0.25      0.22       908\n",
      "weighted avg       0.22      0.27      0.23       908\n",
      "\n",
      "****************************************\n"
     ]
    },
    {
     "name": "stderr",
     "output_type": "stream",
     "text": [
      "/home/david/anaconda3/envs/topographers/lib/python3.10/site-packages/sklearn/metrics/_classification.py:1344: UndefinedMetricWarning: Precision and F-score are ill-defined and being set to 0.0 in labels with no predicted samples. Use `zero_division` parameter to control this behavior.\n",
      "  _warn_prf(average, modifier, msg_start, len(result))\n",
      "/home/david/anaconda3/envs/topographers/lib/python3.10/site-packages/sklearn/metrics/_classification.py:1344: UndefinedMetricWarning: Precision and F-score are ill-defined and being set to 0.0 in labels with no predicted samples. Use `zero_division` parameter to control this behavior.\n",
      "  _warn_prf(average, modifier, msg_start, len(result))\n",
      "/home/david/anaconda3/envs/topographers/lib/python3.10/site-packages/sklearn/metrics/_classification.py:1344: UndefinedMetricWarning: Precision and F-score are ill-defined and being set to 0.0 in labels with no predicted samples. Use `zero_division` parameter to control this behavior.\n",
      "  _warn_prf(average, modifier, msg_start, len(result))\n"
     ]
    },
    {
     "name": "stdout",
     "output_type": "stream",
     "text": [
      "Epsilon is -1.0 and depth is 25\n",
      "              precision    recall  f1-score   support\n",
      "\n",
      "           0       0.34      0.56      0.42       100\n",
      "           1       0.15      0.26      0.19       100\n",
      "           2       0.40      0.38      0.39        86\n",
      "           3       0.31      0.48      0.38       100\n",
      "           4       0.00      0.00      0.00        50\n",
      "           5       0.00      0.00      0.00        86\n",
      "           6       0.34      0.24      0.28       100\n",
      "           7       0.33      0.22      0.26        86\n",
      "           8       0.22      0.33      0.26       100\n",
      "           9       0.09      0.04      0.06       100\n",
      "\n",
      "    accuracy                           0.27       908\n",
      "   macro avg       0.22      0.25      0.22       908\n",
      "weighted avg       0.23      0.27      0.24       908\n",
      "\n",
      "****************************************\n"
     ]
    },
    {
     "name": "stderr",
     "output_type": "stream",
     "text": [
      "/home/david/anaconda3/envs/topographers/lib/python3.10/site-packages/sklearn/metrics/_classification.py:1344: UndefinedMetricWarning: Precision and F-score are ill-defined and being set to 0.0 in labels with no predicted samples. Use `zero_division` parameter to control this behavior.\n",
      "  _warn_prf(average, modifier, msg_start, len(result))\n",
      "/home/david/anaconda3/envs/topographers/lib/python3.10/site-packages/sklearn/metrics/_classification.py:1344: UndefinedMetricWarning: Precision and F-score are ill-defined and being set to 0.0 in labels with no predicted samples. Use `zero_division` parameter to control this behavior.\n",
      "  _warn_prf(average, modifier, msg_start, len(result))\n",
      "/home/david/anaconda3/envs/topographers/lib/python3.10/site-packages/sklearn/metrics/_classification.py:1344: UndefinedMetricWarning: Precision and F-score are ill-defined and being set to 0.0 in labels with no predicted samples. Use `zero_division` parameter to control this behavior.\n",
      "  _warn_prf(average, modifier, msg_start, len(result))\n"
     ]
    }
   ],
   "source": [
    "## let us try a bunch of things \n",
    "eps = [.5, .1, -.5, -.1, -1.]\n",
    "deeps = [10,15,20,25]\n",
    "for e in eps : \n",
    "  train = np.exp(e*np.real(np.array(train_feats[0])))\n",
    "  test = np.exp(e*np.real(np.array(test_feats[0])))\n",
    "  for d in deeps :\n",
    "    clf = RandomForestClassifier(max_depth=d, random_state=0)\n",
    "    clf.fit(np.array(train), train_labels)\n",
    "    preds = clf.predict(test)\n",
    "    print(f\"Epsilon is {e} and depth is {d}\")\n",
    "    print(classification_report(test_labels, preds))\n",
    "    print(\"*\"*40)"
   ]
  },
  {
   "cell_type": "code",
   "execution_count": 26,
   "metadata": {
    "colab": {
     "base_uri": "https://localhost:8080/"
    },
    "id": "AJl6I1MEvkDE",
    "outputId": "869473ea-3364-4618-855c-e64c3716e23d"
   },
   "outputs": [
    {
     "name": "stdout",
     "output_type": "stream",
     "text": [
      "Epsilon is 0.5 and depth is 10\n",
      "              precision    recall  f1-score   support\n",
      "\n",
      "           0       0.36      0.58      0.45       100\n",
      "           1       0.18      0.31      0.23       100\n",
      "           2       0.58      0.49      0.53        86\n",
      "           3       0.33      0.55      0.41       100\n",
      "           4       0.00      0.00      0.00        50\n",
      "           5       0.00      0.00      0.00        86\n",
      "           6       0.40      0.41      0.41       100\n",
      "           7       0.51      0.42      0.46        86\n",
      "           8       0.25      0.35      0.29       100\n",
      "           9       0.27      0.07      0.11       100\n",
      "\n",
      "    accuracy                           0.34       908\n",
      "   macro avg       0.29      0.32      0.29       908\n",
      "weighted avg       0.30      0.34      0.30       908\n",
      "\n",
      "****************************************\n"
     ]
    },
    {
     "name": "stderr",
     "output_type": "stream",
     "text": [
      "/home/david/anaconda3/envs/topographers/lib/python3.10/site-packages/sklearn/metrics/_classification.py:1344: UndefinedMetricWarning: Precision and F-score are ill-defined and being set to 0.0 in labels with no predicted samples. Use `zero_division` parameter to control this behavior.\n",
      "  _warn_prf(average, modifier, msg_start, len(result))\n",
      "/home/david/anaconda3/envs/topographers/lib/python3.10/site-packages/sklearn/metrics/_classification.py:1344: UndefinedMetricWarning: Precision and F-score are ill-defined and being set to 0.0 in labels with no predicted samples. Use `zero_division` parameter to control this behavior.\n",
      "  _warn_prf(average, modifier, msg_start, len(result))\n",
      "/home/david/anaconda3/envs/topographers/lib/python3.10/site-packages/sklearn/metrics/_classification.py:1344: UndefinedMetricWarning: Precision and F-score are ill-defined and being set to 0.0 in labels with no predicted samples. Use `zero_division` parameter to control this behavior.\n",
      "  _warn_prf(average, modifier, msg_start, len(result))\n"
     ]
    },
    {
     "name": "stdout",
     "output_type": "stream",
     "text": [
      "Epsilon is 0.5 and depth is 15\n",
      "              precision    recall  f1-score   support\n",
      "\n",
      "           0       0.38      0.60      0.46       100\n",
      "           1       0.20      0.32      0.25       100\n",
      "           2       0.58      0.49      0.53        86\n",
      "           3       0.29      0.51      0.37       100\n",
      "           4       0.00      0.00      0.00        50\n",
      "           5       0.20      0.01      0.02        86\n",
      "           6       0.42      0.41      0.42       100\n",
      "           7       0.51      0.41      0.45        86\n",
      "           8       0.29      0.38      0.33       100\n",
      "           9       0.23      0.09      0.13       100\n",
      "\n",
      "    accuracy                           0.34       908\n",
      "   macro avg       0.31      0.32      0.30       908\n",
      "weighted avg       0.32      0.34      0.31       908\n",
      "\n",
      "****************************************\n"
     ]
    },
    {
     "name": "stderr",
     "output_type": "stream",
     "text": [
      "/home/david/anaconda3/envs/topographers/lib/python3.10/site-packages/sklearn/metrics/_classification.py:1344: UndefinedMetricWarning: Precision and F-score are ill-defined and being set to 0.0 in labels with no predicted samples. Use `zero_division` parameter to control this behavior.\n",
      "  _warn_prf(average, modifier, msg_start, len(result))\n",
      "/home/david/anaconda3/envs/topographers/lib/python3.10/site-packages/sklearn/metrics/_classification.py:1344: UndefinedMetricWarning: Precision and F-score are ill-defined and being set to 0.0 in labels with no predicted samples. Use `zero_division` parameter to control this behavior.\n",
      "  _warn_prf(average, modifier, msg_start, len(result))\n",
      "/home/david/anaconda3/envs/topographers/lib/python3.10/site-packages/sklearn/metrics/_classification.py:1344: UndefinedMetricWarning: Precision and F-score are ill-defined and being set to 0.0 in labels with no predicted samples. Use `zero_division` parameter to control this behavior.\n",
      "  _warn_prf(average, modifier, msg_start, len(result))\n"
     ]
    },
    {
     "name": "stdout",
     "output_type": "stream",
     "text": [
      "Epsilon is 0.5 and depth is 20\n",
      "              precision    recall  f1-score   support\n",
      "\n",
      "           0       0.34      0.54      0.42       100\n",
      "           1       0.23      0.32      0.27       100\n",
      "           2       0.56      0.47      0.51        86\n",
      "           3       0.30      0.50      0.38       100\n",
      "           4       0.00      0.00      0.00        50\n",
      "           5       0.00      0.00      0.00        86\n",
      "           6       0.40      0.42      0.41       100\n",
      "           7       0.49      0.42      0.45        86\n",
      "           8       0.24      0.35      0.29       100\n",
      "           9       0.33      0.14      0.20       100\n",
      "\n",
      "    accuracy                           0.33       908\n",
      "   macro avg       0.29      0.32      0.29       908\n",
      "weighted avg       0.30      0.33      0.31       908\n",
      "\n",
      "****************************************\n"
     ]
    },
    {
     "name": "stderr",
     "output_type": "stream",
     "text": [
      "/home/david/anaconda3/envs/topographers/lib/python3.10/site-packages/sklearn/metrics/_classification.py:1344: UndefinedMetricWarning: Precision and F-score are ill-defined and being set to 0.0 in labels with no predicted samples. Use `zero_division` parameter to control this behavior.\n",
      "  _warn_prf(average, modifier, msg_start, len(result))\n",
      "/home/david/anaconda3/envs/topographers/lib/python3.10/site-packages/sklearn/metrics/_classification.py:1344: UndefinedMetricWarning: Precision and F-score are ill-defined and being set to 0.0 in labels with no predicted samples. Use `zero_division` parameter to control this behavior.\n",
      "  _warn_prf(average, modifier, msg_start, len(result))\n",
      "/home/david/anaconda3/envs/topographers/lib/python3.10/site-packages/sklearn/metrics/_classification.py:1344: UndefinedMetricWarning: Precision and F-score are ill-defined and being set to 0.0 in labels with no predicted samples. Use `zero_division` parameter to control this behavior.\n",
      "  _warn_prf(average, modifier, msg_start, len(result))\n"
     ]
    },
    {
     "name": "stdout",
     "output_type": "stream",
     "text": [
      "Epsilon is 0.5 and depth is 25\n",
      "              precision    recall  f1-score   support\n",
      "\n",
      "           0       0.34      0.61      0.44       100\n",
      "           1       0.21      0.34      0.26       100\n",
      "           2       0.55      0.48      0.51        86\n",
      "           3       0.34      0.49      0.40       100\n",
      "           4       0.00      0.00      0.00        50\n",
      "           5       0.14      0.01      0.02        86\n",
      "           6       0.43      0.38      0.40       100\n",
      "           7       0.49      0.41      0.44        86\n",
      "           8       0.24      0.33      0.28       100\n",
      "           9       0.22      0.09      0.13       100\n",
      "\n",
      "    accuracy                           0.33       908\n",
      "   macro avg       0.30      0.31      0.29       908\n",
      "weighted avg       0.31      0.33      0.30       908\n",
      "\n",
      "****************************************\n"
     ]
    },
    {
     "name": "stderr",
     "output_type": "stream",
     "text": [
      "/home/david/anaconda3/envs/topographers/lib/python3.10/site-packages/sklearn/metrics/_classification.py:1344: UndefinedMetricWarning: Precision and F-score are ill-defined and being set to 0.0 in labels with no predicted samples. Use `zero_division` parameter to control this behavior.\n",
      "  _warn_prf(average, modifier, msg_start, len(result))\n",
      "/home/david/anaconda3/envs/topographers/lib/python3.10/site-packages/sklearn/metrics/_classification.py:1344: UndefinedMetricWarning: Precision and F-score are ill-defined and being set to 0.0 in labels with no predicted samples. Use `zero_division` parameter to control this behavior.\n",
      "  _warn_prf(average, modifier, msg_start, len(result))\n",
      "/home/david/anaconda3/envs/topographers/lib/python3.10/site-packages/sklearn/metrics/_classification.py:1344: UndefinedMetricWarning: Precision and F-score are ill-defined and being set to 0.0 in labels with no predicted samples. Use `zero_division` parameter to control this behavior.\n",
      "  _warn_prf(average, modifier, msg_start, len(result))\n"
     ]
    },
    {
     "name": "stdout",
     "output_type": "stream",
     "text": [
      "Epsilon is 0.1 and depth is 10\n",
      "              precision    recall  f1-score   support\n",
      "\n",
      "           0       0.36      0.58      0.44       100\n",
      "           1       0.18      0.32      0.23       100\n",
      "           2       0.58      0.49      0.53        86\n",
      "           3       0.33      0.55      0.41       100\n",
      "           4       0.00      0.00      0.00        50\n",
      "           5       0.00      0.00      0.00        86\n",
      "           6       0.41      0.39      0.40       100\n",
      "           7       0.51      0.41      0.45        86\n",
      "           8       0.24      0.34      0.28       100\n",
      "           9       0.27      0.07      0.11       100\n",
      "\n",
      "    accuracy                           0.33       908\n",
      "   macro avg       0.29      0.31      0.29       908\n",
      "weighted avg       0.30      0.33      0.30       908\n",
      "\n",
      "****************************************\n"
     ]
    },
    {
     "name": "stderr",
     "output_type": "stream",
     "text": [
      "/home/david/anaconda3/envs/topographers/lib/python3.10/site-packages/sklearn/metrics/_classification.py:1344: UndefinedMetricWarning: Precision and F-score are ill-defined and being set to 0.0 in labels with no predicted samples. Use `zero_division` parameter to control this behavior.\n",
      "  _warn_prf(average, modifier, msg_start, len(result))\n",
      "/home/david/anaconda3/envs/topographers/lib/python3.10/site-packages/sklearn/metrics/_classification.py:1344: UndefinedMetricWarning: Precision and F-score are ill-defined and being set to 0.0 in labels with no predicted samples. Use `zero_division` parameter to control this behavior.\n",
      "  _warn_prf(average, modifier, msg_start, len(result))\n",
      "/home/david/anaconda3/envs/topographers/lib/python3.10/site-packages/sklearn/metrics/_classification.py:1344: UndefinedMetricWarning: Precision and F-score are ill-defined and being set to 0.0 in labels with no predicted samples. Use `zero_division` parameter to control this behavior.\n",
      "  _warn_prf(average, modifier, msg_start, len(result))\n"
     ]
    },
    {
     "name": "stdout",
     "output_type": "stream",
     "text": [
      "Epsilon is 0.1 and depth is 15\n",
      "              precision    recall  f1-score   support\n",
      "\n",
      "           0       0.37      0.59      0.46       100\n",
      "           1       0.22      0.35      0.27       100\n",
      "           2       0.58      0.49      0.53        86\n",
      "           3       0.29      0.49      0.37       100\n",
      "           4       0.00      0.00      0.00        50\n",
      "           5       0.00      0.00      0.00        86\n",
      "           6       0.40      0.42      0.41       100\n",
      "           7       0.51      0.40      0.44        86\n",
      "           8       0.30      0.40      0.34       100\n",
      "           9       0.26      0.10      0.14       100\n",
      "\n",
      "    accuracy                           0.34       908\n",
      "   macro avg       0.29      0.32      0.30       908\n",
      "weighted avg       0.31      0.34      0.31       908\n",
      "\n",
      "****************************************\n"
     ]
    },
    {
     "name": "stderr",
     "output_type": "stream",
     "text": [
      "/home/david/anaconda3/envs/topographers/lib/python3.10/site-packages/sklearn/metrics/_classification.py:1344: UndefinedMetricWarning: Precision and F-score are ill-defined and being set to 0.0 in labels with no predicted samples. Use `zero_division` parameter to control this behavior.\n",
      "  _warn_prf(average, modifier, msg_start, len(result))\n",
      "/home/david/anaconda3/envs/topographers/lib/python3.10/site-packages/sklearn/metrics/_classification.py:1344: UndefinedMetricWarning: Precision and F-score are ill-defined and being set to 0.0 in labels with no predicted samples. Use `zero_division` parameter to control this behavior.\n",
      "  _warn_prf(average, modifier, msg_start, len(result))\n",
      "/home/david/anaconda3/envs/topographers/lib/python3.10/site-packages/sklearn/metrics/_classification.py:1344: UndefinedMetricWarning: Precision and F-score are ill-defined and being set to 0.0 in labels with no predicted samples. Use `zero_division` parameter to control this behavior.\n",
      "  _warn_prf(average, modifier, msg_start, len(result))\n"
     ]
    },
    {
     "name": "stdout",
     "output_type": "stream",
     "text": [
      "Epsilon is 0.1 and depth is 20\n",
      "              precision    recall  f1-score   support\n",
      "\n",
      "           0       0.37      0.59      0.45       100\n",
      "           1       0.22      0.31      0.26       100\n",
      "           2       0.57      0.49      0.53        86\n",
      "           3       0.32      0.50      0.39       100\n",
      "           4       0.00      0.00      0.00        50\n",
      "           5       0.00      0.00      0.00        86\n",
      "           6       0.40      0.43      0.41       100\n",
      "           7       0.50      0.43      0.46        86\n",
      "           8       0.24      0.37      0.29       100\n",
      "           9       0.36      0.13      0.19       100\n",
      "\n",
      "    accuracy                           0.34       908\n",
      "   macro avg       0.30      0.32      0.30       908\n",
      "weighted avg       0.31      0.34      0.31       908\n",
      "\n",
      "****************************************\n"
     ]
    },
    {
     "name": "stderr",
     "output_type": "stream",
     "text": [
      "/home/david/anaconda3/envs/topographers/lib/python3.10/site-packages/sklearn/metrics/_classification.py:1344: UndefinedMetricWarning: Precision and F-score are ill-defined and being set to 0.0 in labels with no predicted samples. Use `zero_division` parameter to control this behavior.\n",
      "  _warn_prf(average, modifier, msg_start, len(result))\n",
      "/home/david/anaconda3/envs/topographers/lib/python3.10/site-packages/sklearn/metrics/_classification.py:1344: UndefinedMetricWarning: Precision and F-score are ill-defined and being set to 0.0 in labels with no predicted samples. Use `zero_division` parameter to control this behavior.\n",
      "  _warn_prf(average, modifier, msg_start, len(result))\n",
      "/home/david/anaconda3/envs/topographers/lib/python3.10/site-packages/sklearn/metrics/_classification.py:1344: UndefinedMetricWarning: Precision and F-score are ill-defined and being set to 0.0 in labels with no predicted samples. Use `zero_division` parameter to control this behavior.\n",
      "  _warn_prf(average, modifier, msg_start, len(result))\n"
     ]
    },
    {
     "name": "stdout",
     "output_type": "stream",
     "text": [
      "Epsilon is 0.1 and depth is 25\n",
      "              precision    recall  f1-score   support\n",
      "\n",
      "           0       0.36      0.61      0.45       100\n",
      "           1       0.21      0.33      0.26       100\n",
      "           2       0.55      0.48      0.51        86\n",
      "           3       0.33      0.50      0.40       100\n",
      "           4       0.00      0.00      0.00        50\n",
      "           5       0.14      0.01      0.02        86\n",
      "           6       0.41      0.36      0.38       100\n",
      "           7       0.49      0.41      0.44        86\n",
      "           8       0.25      0.36      0.29       100\n",
      "           9       0.22      0.09      0.13       100\n",
      "\n",
      "    accuracy                           0.33       908\n",
      "   macro avg       0.29      0.31      0.29       908\n",
      "weighted avg       0.31      0.33      0.30       908\n",
      "\n",
      "****************************************\n"
     ]
    },
    {
     "name": "stderr",
     "output_type": "stream",
     "text": [
      "/home/david/anaconda3/envs/topographers/lib/python3.10/site-packages/sklearn/metrics/_classification.py:1344: UndefinedMetricWarning: Precision and F-score are ill-defined and being set to 0.0 in labels with no predicted samples. Use `zero_division` parameter to control this behavior.\n",
      "  _warn_prf(average, modifier, msg_start, len(result))\n",
      "/home/david/anaconda3/envs/topographers/lib/python3.10/site-packages/sklearn/metrics/_classification.py:1344: UndefinedMetricWarning: Precision and F-score are ill-defined and being set to 0.0 in labels with no predicted samples. Use `zero_division` parameter to control this behavior.\n",
      "  _warn_prf(average, modifier, msg_start, len(result))\n",
      "/home/david/anaconda3/envs/topographers/lib/python3.10/site-packages/sklearn/metrics/_classification.py:1344: UndefinedMetricWarning: Precision and F-score are ill-defined and being set to 0.0 in labels with no predicted samples. Use `zero_division` parameter to control this behavior.\n",
      "  _warn_prf(average, modifier, msg_start, len(result))\n"
     ]
    },
    {
     "name": "stdout",
     "output_type": "stream",
     "text": [
      "Epsilon is -0.5 and depth is 10\n",
      "              precision    recall  f1-score   support\n",
      "\n",
      "           0       0.36      0.58      0.44       100\n",
      "           1       0.20      0.37      0.26       100\n",
      "           2       0.51      0.44      0.48        86\n",
      "           3       0.29      0.49      0.37       100\n",
      "           4       0.00      0.00      0.00        50\n",
      "           5       0.00      0.00      0.00        86\n",
      "           6       0.41      0.38      0.40       100\n",
      "           7       0.48      0.37      0.42        86\n",
      "           8       0.25      0.35      0.29       100\n",
      "           9       0.32      0.07      0.11       100\n",
      "\n",
      "    accuracy                           0.32       908\n",
      "   macro avg       0.28      0.31      0.28       908\n",
      "weighted avg       0.30      0.32      0.29       908\n",
      "\n",
      "****************************************\n"
     ]
    },
    {
     "name": "stderr",
     "output_type": "stream",
     "text": [
      "/home/david/anaconda3/envs/topographers/lib/python3.10/site-packages/sklearn/metrics/_classification.py:1344: UndefinedMetricWarning: Precision and F-score are ill-defined and being set to 0.0 in labels with no predicted samples. Use `zero_division` parameter to control this behavior.\n",
      "  _warn_prf(average, modifier, msg_start, len(result))\n",
      "/home/david/anaconda3/envs/topographers/lib/python3.10/site-packages/sklearn/metrics/_classification.py:1344: UndefinedMetricWarning: Precision and F-score are ill-defined and being set to 0.0 in labels with no predicted samples. Use `zero_division` parameter to control this behavior.\n",
      "  _warn_prf(average, modifier, msg_start, len(result))\n",
      "/home/david/anaconda3/envs/topographers/lib/python3.10/site-packages/sklearn/metrics/_classification.py:1344: UndefinedMetricWarning: Precision and F-score are ill-defined and being set to 0.0 in labels with no predicted samples. Use `zero_division` parameter to control this behavior.\n",
      "  _warn_prf(average, modifier, msg_start, len(result))\n"
     ]
    },
    {
     "name": "stdout",
     "output_type": "stream",
     "text": [
      "Epsilon is -0.5 and depth is 15\n",
      "              precision    recall  f1-score   support\n",
      "\n",
      "           0       0.36      0.60      0.45       100\n",
      "           1       0.22      0.34      0.27       100\n",
      "           2       0.58      0.44      0.50        86\n",
      "           3       0.30      0.47      0.37       100\n",
      "           4       0.00      0.00      0.00        50\n",
      "           5       0.40      0.02      0.04        86\n",
      "           6       0.40      0.42      0.41       100\n",
      "           7       0.49      0.45      0.47        86\n",
      "           8       0.27      0.37      0.31       100\n",
      "           9       0.24      0.09      0.13       100\n",
      "\n",
      "    accuracy                           0.34       908\n",
      "   macro avg       0.33      0.32      0.30       908\n",
      "weighted avg       0.34      0.34      0.31       908\n",
      "\n",
      "****************************************\n"
     ]
    },
    {
     "name": "stderr",
     "output_type": "stream",
     "text": [
      "/home/david/anaconda3/envs/topographers/lib/python3.10/site-packages/sklearn/metrics/_classification.py:1344: UndefinedMetricWarning: Precision and F-score are ill-defined and being set to 0.0 in labels with no predicted samples. Use `zero_division` parameter to control this behavior.\n",
      "  _warn_prf(average, modifier, msg_start, len(result))\n",
      "/home/david/anaconda3/envs/topographers/lib/python3.10/site-packages/sklearn/metrics/_classification.py:1344: UndefinedMetricWarning: Precision and F-score are ill-defined and being set to 0.0 in labels with no predicted samples. Use `zero_division` parameter to control this behavior.\n",
      "  _warn_prf(average, modifier, msg_start, len(result))\n",
      "/home/david/anaconda3/envs/topographers/lib/python3.10/site-packages/sklearn/metrics/_classification.py:1344: UndefinedMetricWarning: Precision and F-score are ill-defined and being set to 0.0 in labels with no predicted samples. Use `zero_division` parameter to control this behavior.\n",
      "  _warn_prf(average, modifier, msg_start, len(result))\n"
     ]
    },
    {
     "name": "stdout",
     "output_type": "stream",
     "text": [
      "Epsilon is -0.5 and depth is 20\n",
      "              precision    recall  f1-score   support\n",
      "\n",
      "           0       0.33      0.57      0.42       100\n",
      "           1       0.23      0.33      0.27       100\n",
      "           2       0.49      0.45      0.47        86\n",
      "           3       0.29      0.44      0.35       100\n",
      "           4       0.00      0.00      0.00        50\n",
      "           5       0.14      0.01      0.02        86\n",
      "           6       0.38      0.38      0.38       100\n",
      "           7       0.48      0.37      0.42        86\n",
      "           8       0.27      0.39      0.32       100\n",
      "           9       0.33      0.14      0.20       100\n",
      "\n",
      "    accuracy                           0.33       908\n",
      "   macro avg       0.29      0.31      0.28       908\n",
      "weighted avg       0.31      0.33      0.30       908\n",
      "\n",
      "****************************************\n"
     ]
    },
    {
     "name": "stderr",
     "output_type": "stream",
     "text": [
      "/home/david/anaconda3/envs/topographers/lib/python3.10/site-packages/sklearn/metrics/_classification.py:1344: UndefinedMetricWarning: Precision and F-score are ill-defined and being set to 0.0 in labels with no predicted samples. Use `zero_division` parameter to control this behavior.\n",
      "  _warn_prf(average, modifier, msg_start, len(result))\n",
      "/home/david/anaconda3/envs/topographers/lib/python3.10/site-packages/sklearn/metrics/_classification.py:1344: UndefinedMetricWarning: Precision and F-score are ill-defined and being set to 0.0 in labels with no predicted samples. Use `zero_division` parameter to control this behavior.\n",
      "  _warn_prf(average, modifier, msg_start, len(result))\n",
      "/home/david/anaconda3/envs/topographers/lib/python3.10/site-packages/sklearn/metrics/_classification.py:1344: UndefinedMetricWarning: Precision and F-score are ill-defined and being set to 0.0 in labels with no predicted samples. Use `zero_division` parameter to control this behavior.\n",
      "  _warn_prf(average, modifier, msg_start, len(result))\n"
     ]
    },
    {
     "name": "stdout",
     "output_type": "stream",
     "text": [
      "Epsilon is -0.5 and depth is 25\n",
      "              precision    recall  f1-score   support\n",
      "\n",
      "           0       0.35      0.57      0.43       100\n",
      "           1       0.20      0.31      0.25       100\n",
      "           2       0.57      0.48      0.52        86\n",
      "           3       0.29      0.46      0.36       100\n",
      "           4       0.00      0.00      0.00        50\n",
      "           5       0.11      0.01      0.02        86\n",
      "           6       0.37      0.37      0.37       100\n",
      "           7       0.47      0.40      0.43        86\n",
      "           8       0.26      0.36      0.30       100\n",
      "           9       0.26      0.11      0.15       100\n",
      "\n",
      "    accuracy                           0.32       908\n",
      "   macro avg       0.29      0.31      0.28       908\n",
      "weighted avg       0.30      0.32      0.30       908\n",
      "\n",
      "****************************************\n"
     ]
    },
    {
     "name": "stderr",
     "output_type": "stream",
     "text": [
      "/home/david/anaconda3/envs/topographers/lib/python3.10/site-packages/sklearn/metrics/_classification.py:1344: UndefinedMetricWarning: Precision and F-score are ill-defined and being set to 0.0 in labels with no predicted samples. Use `zero_division` parameter to control this behavior.\n",
      "  _warn_prf(average, modifier, msg_start, len(result))\n",
      "/home/david/anaconda3/envs/topographers/lib/python3.10/site-packages/sklearn/metrics/_classification.py:1344: UndefinedMetricWarning: Precision and F-score are ill-defined and being set to 0.0 in labels with no predicted samples. Use `zero_division` parameter to control this behavior.\n",
      "  _warn_prf(average, modifier, msg_start, len(result))\n",
      "/home/david/anaconda3/envs/topographers/lib/python3.10/site-packages/sklearn/metrics/_classification.py:1344: UndefinedMetricWarning: Precision and F-score are ill-defined and being set to 0.0 in labels with no predicted samples. Use `zero_division` parameter to control this behavior.\n",
      "  _warn_prf(average, modifier, msg_start, len(result))\n"
     ]
    },
    {
     "name": "stdout",
     "output_type": "stream",
     "text": [
      "Epsilon is -0.1 and depth is 10\n",
      "              precision    recall  f1-score   support\n",
      "\n",
      "           0       0.36      0.58      0.45       100\n",
      "           1       0.21      0.38      0.27       100\n",
      "           2       0.52      0.44      0.48        86\n",
      "           3       0.29      0.49      0.37       100\n",
      "           4       0.00      0.00      0.00        50\n",
      "           5       0.00      0.00      0.00        86\n",
      "           6       0.41      0.38      0.40       100\n",
      "           7       0.47      0.37      0.42        86\n",
      "           8       0.26      0.36      0.30       100\n",
      "           9       0.33      0.08      0.13       100\n",
      "\n",
      "    accuracy                           0.33       908\n",
      "   macro avg       0.29      0.31      0.28       908\n",
      "weighted avg       0.30      0.33      0.29       908\n",
      "\n",
      "****************************************\n"
     ]
    },
    {
     "name": "stderr",
     "output_type": "stream",
     "text": [
      "/home/david/anaconda3/envs/topographers/lib/python3.10/site-packages/sklearn/metrics/_classification.py:1344: UndefinedMetricWarning: Precision and F-score are ill-defined and being set to 0.0 in labels with no predicted samples. Use `zero_division` parameter to control this behavior.\n",
      "  _warn_prf(average, modifier, msg_start, len(result))\n",
      "/home/david/anaconda3/envs/topographers/lib/python3.10/site-packages/sklearn/metrics/_classification.py:1344: UndefinedMetricWarning: Precision and F-score are ill-defined and being set to 0.0 in labels with no predicted samples. Use `zero_division` parameter to control this behavior.\n",
      "  _warn_prf(average, modifier, msg_start, len(result))\n",
      "/home/david/anaconda3/envs/topographers/lib/python3.10/site-packages/sklearn/metrics/_classification.py:1344: UndefinedMetricWarning: Precision and F-score are ill-defined and being set to 0.0 in labels with no predicted samples. Use `zero_division` parameter to control this behavior.\n",
      "  _warn_prf(average, modifier, msg_start, len(result))\n"
     ]
    },
    {
     "name": "stdout",
     "output_type": "stream",
     "text": [
      "Epsilon is -0.1 and depth is 15\n",
      "              precision    recall  f1-score   support\n",
      "\n",
      "           0       0.36      0.59      0.45       100\n",
      "           1       0.23      0.37      0.28       100\n",
      "           2       0.60      0.47      0.52        86\n",
      "           3       0.30      0.48      0.37       100\n",
      "           4       0.00      0.00      0.00        50\n",
      "           5       0.50      0.03      0.07        86\n",
      "           6       0.40      0.40      0.40       100\n",
      "           7       0.49      0.43      0.46        86\n",
      "           8       0.26      0.35      0.30       100\n",
      "           9       0.24      0.10      0.14       100\n",
      "\n",
      "    accuracy                           0.34       908\n",
      "   macro avg       0.34      0.32      0.30       908\n",
      "weighted avg       0.35      0.34      0.31       908\n",
      "\n",
      "****************************************\n"
     ]
    },
    {
     "name": "stderr",
     "output_type": "stream",
     "text": [
      "/home/david/anaconda3/envs/topographers/lib/python3.10/site-packages/sklearn/metrics/_classification.py:1344: UndefinedMetricWarning: Precision and F-score are ill-defined and being set to 0.0 in labels with no predicted samples. Use `zero_division` parameter to control this behavior.\n",
      "  _warn_prf(average, modifier, msg_start, len(result))\n",
      "/home/david/anaconda3/envs/topographers/lib/python3.10/site-packages/sklearn/metrics/_classification.py:1344: UndefinedMetricWarning: Precision and F-score are ill-defined and being set to 0.0 in labels with no predicted samples. Use `zero_division` parameter to control this behavior.\n",
      "  _warn_prf(average, modifier, msg_start, len(result))\n",
      "/home/david/anaconda3/envs/topographers/lib/python3.10/site-packages/sklearn/metrics/_classification.py:1344: UndefinedMetricWarning: Precision and F-score are ill-defined and being set to 0.0 in labels with no predicted samples. Use `zero_division` parameter to control this behavior.\n",
      "  _warn_prf(average, modifier, msg_start, len(result))\n"
     ]
    },
    {
     "name": "stdout",
     "output_type": "stream",
     "text": [
      "Epsilon is -0.1 and depth is 20\n",
      "              precision    recall  f1-score   support\n",
      "\n",
      "           0       0.33      0.56      0.41       100\n",
      "           1       0.22      0.34      0.26       100\n",
      "           2       0.49      0.44      0.47        86\n",
      "           3       0.29      0.44      0.35       100\n",
      "           4       0.00      0.00      0.00        50\n",
      "           5       0.17      0.01      0.02        86\n",
      "           6       0.39      0.39      0.39       100\n",
      "           7       0.46      0.37      0.41        86\n",
      "           8       0.27      0.37      0.31       100\n",
      "           9       0.32      0.12      0.18       100\n",
      "\n",
      "    accuracy                           0.32       908\n",
      "   macro avg       0.29      0.30      0.28       908\n",
      "weighted avg       0.31      0.32      0.29       908\n",
      "\n",
      "****************************************\n"
     ]
    },
    {
     "name": "stderr",
     "output_type": "stream",
     "text": [
      "/home/david/anaconda3/envs/topographers/lib/python3.10/site-packages/sklearn/metrics/_classification.py:1344: UndefinedMetricWarning: Precision and F-score are ill-defined and being set to 0.0 in labels with no predicted samples. Use `zero_division` parameter to control this behavior.\n",
      "  _warn_prf(average, modifier, msg_start, len(result))\n",
      "/home/david/anaconda3/envs/topographers/lib/python3.10/site-packages/sklearn/metrics/_classification.py:1344: UndefinedMetricWarning: Precision and F-score are ill-defined and being set to 0.0 in labels with no predicted samples. Use `zero_division` parameter to control this behavior.\n",
      "  _warn_prf(average, modifier, msg_start, len(result))\n",
      "/home/david/anaconda3/envs/topographers/lib/python3.10/site-packages/sklearn/metrics/_classification.py:1344: UndefinedMetricWarning: Precision and F-score are ill-defined and being set to 0.0 in labels with no predicted samples. Use `zero_division` parameter to control this behavior.\n",
      "  _warn_prf(average, modifier, msg_start, len(result))\n"
     ]
    },
    {
     "name": "stdout",
     "output_type": "stream",
     "text": [
      "Epsilon is -0.1 and depth is 25\n",
      "              precision    recall  f1-score   support\n",
      "\n",
      "           0       0.35      0.57      0.44       100\n",
      "           1       0.19      0.29      0.23       100\n",
      "           2       0.54      0.45      0.49        86\n",
      "           3       0.30      0.48      0.37       100\n",
      "           4       0.00      0.00      0.00        50\n",
      "           5       0.17      0.01      0.02        86\n",
      "           6       0.38      0.37      0.37       100\n",
      "           7       0.48      0.41      0.44        86\n",
      "           8       0.26      0.37      0.31       100\n",
      "           9       0.26      0.11      0.15       100\n",
      "\n",
      "    accuracy                           0.32       908\n",
      "   macro avg       0.29      0.31      0.28       908\n",
      "weighted avg       0.30      0.32      0.30       908\n",
      "\n",
      "****************************************\n"
     ]
    },
    {
     "name": "stderr",
     "output_type": "stream",
     "text": [
      "/home/david/anaconda3/envs/topographers/lib/python3.10/site-packages/sklearn/metrics/_classification.py:1344: UndefinedMetricWarning: Precision and F-score are ill-defined and being set to 0.0 in labels with no predicted samples. Use `zero_division` parameter to control this behavior.\n",
      "  _warn_prf(average, modifier, msg_start, len(result))\n",
      "/home/david/anaconda3/envs/topographers/lib/python3.10/site-packages/sklearn/metrics/_classification.py:1344: UndefinedMetricWarning: Precision and F-score are ill-defined and being set to 0.0 in labels with no predicted samples. Use `zero_division` parameter to control this behavior.\n",
      "  _warn_prf(average, modifier, msg_start, len(result))\n",
      "/home/david/anaconda3/envs/topographers/lib/python3.10/site-packages/sklearn/metrics/_classification.py:1344: UndefinedMetricWarning: Precision and F-score are ill-defined and being set to 0.0 in labels with no predicted samples. Use `zero_division` parameter to control this behavior.\n",
      "  _warn_prf(average, modifier, msg_start, len(result))\n"
     ]
    },
    {
     "name": "stdout",
     "output_type": "stream",
     "text": [
      "Epsilon is -1.0 and depth is 10\n",
      "              precision    recall  f1-score   support\n",
      "\n",
      "           0       0.36      0.58      0.44       100\n",
      "           1       0.20      0.37      0.26       100\n",
      "           2       0.51      0.44      0.48        86\n",
      "           3       0.29      0.49      0.37       100\n",
      "           4       0.00      0.00      0.00        50\n",
      "           5       0.00      0.00      0.00        86\n",
      "           6       0.41      0.38      0.40       100\n",
      "           7       0.48      0.37      0.42        86\n",
      "           8       0.25      0.35      0.29       100\n",
      "           9       0.32      0.07      0.11       100\n",
      "\n",
      "    accuracy                           0.32       908\n",
      "   macro avg       0.28      0.31      0.28       908\n",
      "weighted avg       0.30      0.32      0.29       908\n",
      "\n",
      "****************************************\n"
     ]
    },
    {
     "name": "stderr",
     "output_type": "stream",
     "text": [
      "/home/david/anaconda3/envs/topographers/lib/python3.10/site-packages/sklearn/metrics/_classification.py:1344: UndefinedMetricWarning: Precision and F-score are ill-defined and being set to 0.0 in labels with no predicted samples. Use `zero_division` parameter to control this behavior.\n",
      "  _warn_prf(average, modifier, msg_start, len(result))\n",
      "/home/david/anaconda3/envs/topographers/lib/python3.10/site-packages/sklearn/metrics/_classification.py:1344: UndefinedMetricWarning: Precision and F-score are ill-defined and being set to 0.0 in labels with no predicted samples. Use `zero_division` parameter to control this behavior.\n",
      "  _warn_prf(average, modifier, msg_start, len(result))\n",
      "/home/david/anaconda3/envs/topographers/lib/python3.10/site-packages/sklearn/metrics/_classification.py:1344: UndefinedMetricWarning: Precision and F-score are ill-defined and being set to 0.0 in labels with no predicted samples. Use `zero_division` parameter to control this behavior.\n",
      "  _warn_prf(average, modifier, msg_start, len(result))\n"
     ]
    },
    {
     "name": "stdout",
     "output_type": "stream",
     "text": [
      "Epsilon is -1.0 and depth is 15\n",
      "              precision    recall  f1-score   support\n",
      "\n",
      "           0       0.36      0.60      0.45       100\n",
      "           1       0.22      0.34      0.27       100\n",
      "           2       0.58      0.44      0.50        86\n",
      "           3       0.30      0.47      0.37       100\n",
      "           4       0.00      0.00      0.00        50\n",
      "           5       0.40      0.02      0.04        86\n",
      "           6       0.40      0.42      0.41       100\n",
      "           7       0.49      0.45      0.47        86\n",
      "           8       0.27      0.37      0.31       100\n",
      "           9       0.24      0.09      0.13       100\n",
      "\n",
      "    accuracy                           0.34       908\n",
      "   macro avg       0.33      0.32      0.30       908\n",
      "weighted avg       0.34      0.34      0.31       908\n",
      "\n",
      "****************************************\n"
     ]
    },
    {
     "name": "stderr",
     "output_type": "stream",
     "text": [
      "/home/david/anaconda3/envs/topographers/lib/python3.10/site-packages/sklearn/metrics/_classification.py:1344: UndefinedMetricWarning: Precision and F-score are ill-defined and being set to 0.0 in labels with no predicted samples. Use `zero_division` parameter to control this behavior.\n",
      "  _warn_prf(average, modifier, msg_start, len(result))\n",
      "/home/david/anaconda3/envs/topographers/lib/python3.10/site-packages/sklearn/metrics/_classification.py:1344: UndefinedMetricWarning: Precision and F-score are ill-defined and being set to 0.0 in labels with no predicted samples. Use `zero_division` parameter to control this behavior.\n",
      "  _warn_prf(average, modifier, msg_start, len(result))\n",
      "/home/david/anaconda3/envs/topographers/lib/python3.10/site-packages/sklearn/metrics/_classification.py:1344: UndefinedMetricWarning: Precision and F-score are ill-defined and being set to 0.0 in labels with no predicted samples. Use `zero_division` parameter to control this behavior.\n",
      "  _warn_prf(average, modifier, msg_start, len(result))\n"
     ]
    },
    {
     "name": "stdout",
     "output_type": "stream",
     "text": [
      "Epsilon is -1.0 and depth is 20\n",
      "              precision    recall  f1-score   support\n",
      "\n",
      "           0       0.33      0.57      0.42       100\n",
      "           1       0.23      0.33      0.27       100\n",
      "           2       0.48      0.44      0.46        86\n",
      "           3       0.29      0.44      0.35       100\n",
      "           4       0.00      0.00      0.00        50\n",
      "           5       0.14      0.01      0.02        86\n",
      "           6       0.39      0.39      0.39       100\n",
      "           7       0.47      0.37      0.42        86\n",
      "           8       0.27      0.40      0.33       100\n",
      "           9       0.34      0.14      0.20       100\n",
      "\n",
      "    accuracy                           0.33       908\n",
      "   macro avg       0.30      0.31      0.29       908\n",
      "weighted avg       0.31      0.33      0.30       908\n",
      "\n",
      "****************************************\n"
     ]
    },
    {
     "name": "stderr",
     "output_type": "stream",
     "text": [
      "/home/david/anaconda3/envs/topographers/lib/python3.10/site-packages/sklearn/metrics/_classification.py:1344: UndefinedMetricWarning: Precision and F-score are ill-defined and being set to 0.0 in labels with no predicted samples. Use `zero_division` parameter to control this behavior.\n",
      "  _warn_prf(average, modifier, msg_start, len(result))\n",
      "/home/david/anaconda3/envs/topographers/lib/python3.10/site-packages/sklearn/metrics/_classification.py:1344: UndefinedMetricWarning: Precision and F-score are ill-defined and being set to 0.0 in labels with no predicted samples. Use `zero_division` parameter to control this behavior.\n",
      "  _warn_prf(average, modifier, msg_start, len(result))\n",
      "/home/david/anaconda3/envs/topographers/lib/python3.10/site-packages/sklearn/metrics/_classification.py:1344: UndefinedMetricWarning: Precision and F-score are ill-defined and being set to 0.0 in labels with no predicted samples. Use `zero_division` parameter to control this behavior.\n",
      "  _warn_prf(average, modifier, msg_start, len(result))\n"
     ]
    },
    {
     "name": "stdout",
     "output_type": "stream",
     "text": [
      "Epsilon is -1.0 and depth is 25\n",
      "              precision    recall  f1-score   support\n",
      "\n",
      "           0       0.35      0.57      0.43       100\n",
      "           1       0.20      0.30      0.24       100\n",
      "           2       0.57      0.48      0.52        86\n",
      "           3       0.29      0.46      0.36       100\n",
      "           4       0.00      0.00      0.00        50\n",
      "           5       0.11      0.01      0.02        86\n",
      "           6       0.37      0.37      0.37       100\n",
      "           7       0.48      0.41      0.44        86\n",
      "           8       0.26      0.37      0.30       100\n",
      "           9       0.26      0.11      0.15       100\n",
      "\n",
      "    accuracy                           0.32       908\n",
      "   macro avg       0.29      0.31      0.28       908\n",
      "weighted avg       0.30      0.32      0.30       908\n",
      "\n",
      "****************************************\n"
     ]
    },
    {
     "name": "stderr",
     "output_type": "stream",
     "text": [
      "/home/david/anaconda3/envs/topographers/lib/python3.10/site-packages/sklearn/metrics/_classification.py:1344: UndefinedMetricWarning: Precision and F-score are ill-defined and being set to 0.0 in labels with no predicted samples. Use `zero_division` parameter to control this behavior.\n",
      "  _warn_prf(average, modifier, msg_start, len(result))\n",
      "/home/david/anaconda3/envs/topographers/lib/python3.10/site-packages/sklearn/metrics/_classification.py:1344: UndefinedMetricWarning: Precision and F-score are ill-defined and being set to 0.0 in labels with no predicted samples. Use `zero_division` parameter to control this behavior.\n",
      "  _warn_prf(average, modifier, msg_start, len(result))\n",
      "/home/david/anaconda3/envs/topographers/lib/python3.10/site-packages/sklearn/metrics/_classification.py:1344: UndefinedMetricWarning: Precision and F-score are ill-defined and being set to 0.0 in labels with no predicted samples. Use `zero_division` parameter to control this behavior.\n",
      "  _warn_prf(average, modifier, msg_start, len(result))\n"
     ]
    }
   ],
   "source": [
    "eps = [.5, .1, -.5, -.1, -1.]\n",
    "deeps = [10,15,20,25]\n",
    "for e in eps : \n",
    "  train = np.exp(e*np.real(np.array(train_feats[1])))\n",
    "  test = np.exp(e*np.real(np.array(test_feats[1])))\n",
    "  for d in deeps :\n",
    "    clf = RandomForestClassifier(max_depth=d, random_state=0)\n",
    "    clf.fit(np.array(train), train_labels)\n",
    "    preds = clf.predict(test)\n",
    "    print(f\"Epsilon is {e} and depth is {d}\")\n",
    "    print(classification_report(test_labels, preds))\n",
    "    print(\"*\"*40)"
   ]
  },
  {
   "cell_type": "code",
   "execution_count": 27,
   "metadata": {
    "id": "A2xya4trja6s"
   },
   "outputs": [],
   "source": [
    "import scipy\n",
    "import numpy as np\n",
    "import matplotlib.pylab as pl\n",
    "from mpl_toolkits.mplot3d import Axes3D  # noqa\n",
    "from scipy import linalg \n",
    "from typing import List, Dict, Tuple, Callable\n",
    "import random\n",
    "from scipy.sparse import csr_matrix\n",
    "from scipy.special import softmax\n",
    "import time\n",
    "from tqdm.notebook import trange\n",
    "\n",
    "def random_projection_creator(num_random_features: int, \n",
    "                              dim: int, \n",
    "                              scaling=0, \n",
    "                              ortho=True) -> np.ndarray:\n",
    "    seed = 0\n",
    "    np.random.seed(seed)\n",
    "    if not ortho:\n",
    "        final_matrix = np.random.normal(size=(num_random_features, dim))\n",
    "    else:\n",
    "        nb_full_blocks = int(num_random_features / dim)\n",
    "        block_list = []\n",
    "        for _ in range(nb_full_blocks):\n",
    "            unstructured_block = np.random.normal(size=(dim, dim))\n",
    "            q, _ = np.linalg.qr(unstructured_block)\n",
    "            q = np.transpose(q)\n",
    "            block_list.append(q)\n",
    "        remaining_rows = num_random_features - nb_full_blocks * dim\n",
    "        if remaining_rows > 0:\n",
    "            unstructured_block = np.random.normal(size=(dim, dim))\n",
    "            q, _ = np.linalg.qr(unstructured_block)\n",
    "            q = np.transpose(q)\n",
    "            block_list.append(q[0:remaining_rows])\n",
    "        final_matrix = np.vstack(block_list)\n",
    "\n",
    "    if scaling == 0:\n",
    "        multiplier = np.linalg.norm(np.random.normal(size=(num_random_features, dim)), axis=1)\n",
    "    elif scaling == 1:\n",
    "        multiplier = np.sqrt(float(dim)) * np.ones((num_random_features))\n",
    "    else:\n",
    "        raise ValueError('Scaling must be one of {0, 1}. Was %s' % scaling)\n",
    "\n",
    "    return np.matmul(np.diag(multiplier), final_matrix)\n",
    "\n",
    "\n",
    "def fourier_transform(input_projection: np.ndarray, epsilon: float, norm_type='L1'):\n",
    "    if norm_type == 'L1':\n",
    "        return np.prod(np.sin(2.0 * epsilon* input_projection) / input_projection)\n",
    "    elif norm_type == 'L2':\n",
    "        pass\n",
    "    else:\n",
    "        pass \n",
    "\n",
    "def density_function(input_projection: np.ndarray) -> np.ndarray:\n",
    "    \"\"\"\n",
    "    density function of the probabilistic distribution applied by the below \n",
    "    random_projection_creator to construct projections\n",
    "    \n",
    "    both the input and output are 1d numpy arrays\n",
    "    \"\"\"\n",
    "    dim = len(input_projection)\n",
    "    length = linalg.norm(input_projection)\n",
    "    return (1.0 / np.power(2.0 * np.pi, dim / 2.0)) * np.exp(-length**2 / 2.0)\n",
    "\n",
    "\n",
    "def construct_random_features(positions: np.ndarray, \n",
    "                              random_projection_creator: Callable, \n",
    "                              density_function: Callable, \n",
    "                              num_rand_features: int, \n",
    "                              fourier_transform: Callable, \n",
    "                              epsilon: float):\n",
    "    \"\"\"\n",
    "    this function is used by graph diffusion GFIntegrator\n",
    "    \n",
    "    parameter definitions are the same as in graph_diffusion_gf_integrator\n",
    "    \"\"\"\n",
    "    dim = len(positions[0])\n",
    "    projection_matrix = random_projection_creator(num_rand_features, dim)\n",
    "    projected_positions = np.einsum('md,nd->nm', projection_matrix, positions)\n",
    "    exp_projected_positions = np.exp(2.0 * np.pi * 1j * projected_positions)\n",
    "    ft_with_eps = lambda x: fourier_transform(x, epsilon)\n",
    "    fts = np.apply_along_axis(ft_with_eps, 1, projection_matrix)\n",
    "    dens = np.apply_along_axis(density_function, 1, projection_matrix)\n",
    "    renormalizers = fts / dens\n",
    "    rfs = np.einsum('nm,m->nm',exp_projected_positions, renormalizers)\n",
    "    return (1.0 / np.sqrt(num_rand_features)) * rfs\n",
    "\n",
    "class DFGFIntegrator(object):\n",
    "    \n",
    "    def __init__(self, positions: np.ndarray, \n",
    "                 epsilon: float, \n",
    "                 lambda_par: float, \n",
    "                 num_rand_features: int, \n",
    "                 dim: int,\n",
    "                 random_projection_creator: Callable, \n",
    "                 density_function: Callable, \n",
    "                 fourier_transform: Callable):\n",
    "\n",
    "        self._positions = positions\n",
    "        self._a_matrix = construct_random_features(positions, \n",
    "                                                   random_projection_creator, \n",
    "                                                   density_function,\n",
    "                                                   num_rand_features,\n",
    "                                                   fourier_transform,\n",
    "                                                   epsilon)          \n",
    "        self._bt_matrix = construct_random_features(-positions, \n",
    "                                                    random_projection_creator,\n",
    "                                                    density_function, \n",
    "                                                    num_rand_features,\n",
    "                                                    fourier_transform,\n",
    "                                                    epsilon)\n",
    "        self._bt_matrix = np.transpose(self._bt_matrix)\n",
    "        bta = np.matmul(self._bt_matrix, self._a_matrix)\n",
    "        self._invbta_matrix = linalg.inv(bta)     \n",
    "        self._expbta_matrix = linalg.expm(lambda_par * bta)\n",
    "        self._expbta_matrix -= np.identity(num_rand_features)  \n",
    "         \n",
    "    def integrate_graph_field(self, field: np.ndarray):\n",
    "        res = np.einsum('mn,n...->m...',self._bt_matrix, field)\n",
    "        res = np.einsum('am,m...->a...', self._invbta_matrix, res)\n",
    "        res = np.einsum('am,m...->a...', self._expbta_matrix, res)\n",
    "        res = np.einsum('nm,m...->n...', self._a_matrix, res)\n",
    "        return np.real(field + res)"
   ]
  },
  {
   "cell_type": "code",
   "execution_count": 28,
   "metadata": {
    "id": "SFDLsOe__EOz"
   },
   "outputs": [],
   "source": [
    "def create_rfd_feats(points, choose_from='all', k_vals=32, epsilon=.1, lambda_par=-.1):\n",
    "    left_eigs = []\n",
    "    right_eigs = []\n",
    "    print(points.shape)\n",
    "    for i in trange(points.shape[0]):\n",
    "      integrator = DFGFIntegrator(\n",
    "                points[i],\n",
    "                epsilon,\n",
    "                lambda_par,\n",
    "                16,\n",
    "                3,\n",
    "                random_projection_creator,\n",
    "                density_function,\n",
    "                fourier_transform,\n",
    "            ) \n",
    "      eigvals = np.real(np.linalg.eigvals(integrator.integrate_graph_field(np.eye(points[i].shape[0]))))\n",
    "      if choose_from =='left' :\n",
    "        left_eigs.append(np.sort(eigvals)[: k_vals]) #k_vals means a subset of the number of eigenvalues of the kernel matrix\n",
    "      elif choose_from == 'right' :\n",
    "        right_eigs.append(np.sort(eigvals)[-k_vals :])\n",
    "      else : \n",
    "        a = np.sort(eigvals)\n",
    "        left_eigs.append(a[: k_vals]), right_eigs.append(a[-k_vals :])\n",
    "\n",
    "    return left_eigs, right_eigs\n",
    "\n"
   ]
  },
  {
   "cell_type": "code",
   "execution_count": 29,
   "metadata": {
    "colab": {
     "base_uri": "https://localhost:8080/",
     "height": 67,
     "referenced_widgets": [
      "6c07eafcbc724a048a55e936cec7eaca",
      "d2609e8d964844b3834776526944b395",
      "578d447d4ae54abeb3c380217d67088f",
      "89a1cb82891f4a6b9eb1b30574032fc8",
      "fc23a8a09f434edfa6b16623c146f5bd",
      "b6a1b642a8f647d7aafd4c24ab9ac585",
      "3e28d892d0d04dbfb4493f25ae043c75",
      "195b33bc66ad49dea6bfc3726847edbd",
      "f694baa9f3d843a485afb2bd907fc9df",
      "8c9ca0a43c104cb2adf0411eca60095b",
      "649a0f536f53486da53a399178f1bfdd"
     ]
    },
    "id": "-k5kanR6vKzD",
    "outputId": "d8b3f429-11ab-4756-ab37-1b5d6f8d51fa"
   },
   "outputs": [
    {
     "name": "stdout",
     "output_type": "stream",
     "text": [
      "(908, 2048, 3)\n"
     ]
    },
    {
     "data": {
      "application/vnd.jupyter.widget-view+json": {
       "model_id": "a39189b0c6f54d2981bb8d0c343862d3",
       "version_major": 2,
       "version_minor": 0
      },
      "text/plain": [
       "  0%|          | 0/908 [00:00<?, ?it/s]"
      ]
     },
     "metadata": {},
     "output_type": "display_data"
    }
   ],
   "source": [
    "test_feats = create_rfd_feats(test_points)"
   ]
  },
  {
   "cell_type": "code",
   "execution_count": 30,
   "metadata": {
    "colab": {
     "base_uri": "https://localhost:8080/",
     "height": 67,
     "referenced_widgets": [
      "20097df6b632442fbe10bcf6fc907ffc",
      "6b26af00d3cd46b3b5b67af0d2036cff",
      "763a5e122a3f43f59b66c00553b95b03",
      "8fef3e74c8a74006a74f616a2d0e7235",
      "9eee2b7d95064d82a91991598135354d",
      "3059cc20545f42ccbd077c5d40c8132e",
      "f59b3d4e82d640ef9fc4e13dcfee374c",
      "4407e38e1b244db49bd9c879e41a7e15",
      "bd4074d5f346431a8cddb08cd835cab0",
      "52a0163ab89a40d2ab241841bd0af782",
      "d693effe171f45f391e7fd8383b2267c"
     ]
    },
    "id": "drj38TievK1q",
    "outputId": "23759ea4-4c44-4319-e553-c7871260b79a"
   },
   "outputs": [
    {
     "name": "stdout",
     "output_type": "stream",
     "text": [
      "(3991, 2048, 3)\n"
     ]
    },
    {
     "data": {
      "application/vnd.jupyter.widget-view+json": {
       "model_id": "3947bdd9ff664fddb3d488e1cb6e89ae",
       "version_major": 2,
       "version_minor": 0
      },
      "text/plain": [
       "  0%|          | 0/3991 [00:00<?, ?it/s]"
      ]
     },
     "metadata": {},
     "output_type": "display_data"
    }
   ],
   "source": [
    "train_feats = create_rfd_feats(train_points)"
   ]
  },
  {
   "cell_type": "code",
   "execution_count": 31,
   "metadata": {
    "colab": {
     "base_uri": "https://localhost:8080/"
    },
    "id": "UKxdTAwT48Kb",
    "outputId": "1f6acd9d-ce14-4b83-bfc3-ca1fdda4ff6b"
   },
   "outputs": [
    {
     "name": "stdout",
     "output_type": "stream",
     "text": [
      "depth is 10\n",
      "              precision    recall  f1-score   support\n",
      "\n",
      "           0       0.69      0.90      0.78       100\n",
      "           1       0.75      0.86      0.80       100\n",
      "           2       0.73      0.64      0.68        86\n",
      "           3       0.54      0.91      0.68       100\n",
      "           4       1.00      0.20      0.33        50\n",
      "           5       0.41      0.31      0.36        86\n",
      "           6       0.81      0.71      0.76       100\n",
      "           7       0.64      0.65      0.65        86\n",
      "           8       0.75      0.76      0.75       100\n",
      "           9       0.52      0.35      0.42       100\n",
      "\n",
      "    accuracy                           0.66       908\n",
      "   macro avg       0.68      0.63      0.62       908\n",
      "weighted avg       0.67      0.66      0.64       908\n",
      "\n",
      "****************************************\n",
      "depth is 15\n",
      "              precision    recall  f1-score   support\n",
      "\n",
      "           0       0.71      0.89      0.79       100\n",
      "           1       0.81      0.84      0.82       100\n",
      "           2       0.81      0.71      0.76        86\n",
      "           3       0.55      0.91      0.69       100\n",
      "           4       0.94      0.30      0.45        50\n",
      "           5       0.41      0.28      0.33        86\n",
      "           6       0.81      0.78      0.80       100\n",
      "           7       0.67      0.69      0.68        86\n",
      "           8       0.80      0.78      0.79       100\n",
      "           9       0.48      0.41      0.44       100\n",
      "\n",
      "    accuracy                           0.68       908\n",
      "   macro avg       0.70      0.66      0.66       908\n",
      "weighted avg       0.69      0.68      0.67       908\n",
      "\n",
      "****************************************\n",
      "depth is 20\n",
      "              precision    recall  f1-score   support\n",
      "\n",
      "           0       0.71      0.91      0.80       100\n",
      "           1       0.79      0.87      0.83       100\n",
      "           2       0.81      0.76      0.78        86\n",
      "           3       0.58      0.94      0.71       100\n",
      "           4       0.94      0.34      0.50        50\n",
      "           5       0.44      0.33      0.38        86\n",
      "           6       0.81      0.77      0.79       100\n",
      "           7       0.68      0.67      0.68        86\n",
      "           8       0.84      0.78      0.81       100\n",
      "           9       0.51      0.37      0.43       100\n",
      "\n",
      "    accuracy                           0.70       908\n",
      "   macro avg       0.71      0.67      0.67       908\n",
      "weighted avg       0.70      0.70      0.68       908\n",
      "\n",
      "****************************************\n",
      "depth is 25\n",
      "              precision    recall  f1-score   support\n",
      "\n",
      "           0       0.71      0.91      0.80       100\n",
      "           1       0.79      0.86      0.82       100\n",
      "           2       0.80      0.73      0.76        86\n",
      "           3       0.56      0.93      0.70       100\n",
      "           4       0.95      0.36      0.52        50\n",
      "           5       0.44      0.30      0.36        86\n",
      "           6       0.82      0.78      0.80       100\n",
      "           7       0.67      0.67      0.67        86\n",
      "           8       0.85      0.78      0.81       100\n",
      "           9       0.48      0.36      0.41       100\n",
      "\n",
      "    accuracy                           0.69       908\n",
      "   macro avg       0.71      0.67      0.67       908\n",
      "weighted avg       0.70      0.69      0.68       908\n",
      "\n",
      "****************************************\n"
     ]
    }
   ],
   "source": [
    "deeps = [10,15,20,25]\n",
    "for d in deeps :\n",
    "    clf = RandomForestClassifier(max_depth=d, random_state=0)\n",
    "    clf.fit(np.array(train_feats[0]), train_labels)\n",
    "    preds = clf.predict(test_feats[0])\n",
    "    print(f\"depth is {d}\")\n",
    "    print(classification_report(test_labels, preds))\n",
    "    print(\"*\"*40)"
   ]
  },
  {
   "cell_type": "code",
   "execution_count": null,
   "metadata": {
    "id": "bFP7NSvh6IBk"
   },
   "outputs": [],
   "source": []
  }
 ],
 "metadata": {
  "colab": {
   "provenance": []
  },
  "gpuClass": "standard",
  "kernelspec": {
   "display_name": "Python 3 (ipykernel)",
   "language": "python",
   "name": "python3"
  },
  "language_info": {
   "codemirror_mode": {
    "name": "ipython",
    "version": 3
   },
   "file_extension": ".py",
   "mimetype": "text/x-python",
   "name": "python",
   "nbconvert_exporter": "python",
   "pygments_lexer": "ipython3",
   "version": "3.10.9"
  },
  "widgets": {
   "application/vnd.jupyter.widget-state+json": {
    "09057bbe757744f58875b993cd5cc531": {
     "model_module": "@jupyter-widgets/controls",
     "model_module_version": "1.5.0",
     "model_name": "HTMLModel",
     "state": {
      "_dom_classes": [],
      "_model_module": "@jupyter-widgets/controls",
      "_model_module_version": "1.5.0",
      "_model_name": "HTMLModel",
      "_view_count": null,
      "_view_module": "@jupyter-widgets/controls",
      "_view_module_version": "1.5.0",
      "_view_name": "HTMLView",
      "description": "",
      "description_tooltip": null,
      "layout": "IPY_MODEL_916f75ae6563475287d58973533af15a",
      "placeholder": "​",
      "style": "IPY_MODEL_984103d8a4964b14bfa8599651e007cb",
      "value": "100%"
     }
    },
    "096c06e9f4694daea23f4bf47b672313": {
     "model_module": "@jupyter-widgets/controls",
     "model_module_version": "1.5.0",
     "model_name": "FloatProgressModel",
     "state": {
      "_dom_classes": [],
      "_model_module": "@jupyter-widgets/controls",
      "_model_module_version": "1.5.0",
      "_model_name": "FloatProgressModel",
      "_view_count": null,
      "_view_module": "@jupyter-widgets/controls",
      "_view_module_version": "1.5.0",
      "_view_name": "ProgressView",
      "bar_style": "success",
      "description": "",
      "description_tooltip": null,
      "layout": "IPY_MODEL_aa8d193361a7409f8848be295599e9ff",
      "max": 908,
      "min": 0,
      "orientation": "horizontal",
      "style": "IPY_MODEL_c433b924c9114642a1f39a6309bf0434",
      "value": 908
     }
    },
    "195b33bc66ad49dea6bfc3726847edbd": {
     "model_module": "@jupyter-widgets/base",
     "model_module_version": "1.2.0",
     "model_name": "LayoutModel",
     "state": {
      "_model_module": "@jupyter-widgets/base",
      "_model_module_version": "1.2.0",
      "_model_name": "LayoutModel",
      "_view_count": null,
      "_view_module": "@jupyter-widgets/base",
      "_view_module_version": "1.2.0",
      "_view_name": "LayoutView",
      "align_content": null,
      "align_items": null,
      "align_self": null,
      "border": null,
      "bottom": null,
      "display": null,
      "flex": null,
      "flex_flow": null,
      "grid_area": null,
      "grid_auto_columns": null,
      "grid_auto_flow": null,
      "grid_auto_rows": null,
      "grid_column": null,
      "grid_gap": null,
      "grid_row": null,
      "grid_template_areas": null,
      "grid_template_columns": null,
      "grid_template_rows": null,
      "height": null,
      "justify_content": null,
      "justify_items": null,
      "left": null,
      "margin": null,
      "max_height": null,
      "max_width": null,
      "min_height": null,
      "min_width": null,
      "object_fit": null,
      "object_position": null,
      "order": null,
      "overflow": null,
      "overflow_x": null,
      "overflow_y": null,
      "padding": null,
      "right": null,
      "top": null,
      "visibility": null,
      "width": null
     }
    },
    "20097df6b632442fbe10bcf6fc907ffc": {
     "model_module": "@jupyter-widgets/controls",
     "model_module_version": "1.5.0",
     "model_name": "HBoxModel",
     "state": {
      "_dom_classes": [],
      "_model_module": "@jupyter-widgets/controls",
      "_model_module_version": "1.5.0",
      "_model_name": "HBoxModel",
      "_view_count": null,
      "_view_module": "@jupyter-widgets/controls",
      "_view_module_version": "1.5.0",
      "_view_name": "HBoxView",
      "box_style": "",
      "children": [
       "IPY_MODEL_6b26af00d3cd46b3b5b67af0d2036cff",
       "IPY_MODEL_763a5e122a3f43f59b66c00553b95b03",
       "IPY_MODEL_8fef3e74c8a74006a74f616a2d0e7235"
      ],
      "layout": "IPY_MODEL_9eee2b7d95064d82a91991598135354d"
     }
    },
    "24c82526b726419eaebc44adaaa18513": {
     "model_module": "@jupyter-widgets/base",
     "model_module_version": "1.2.0",
     "model_name": "LayoutModel",
     "state": {
      "_model_module": "@jupyter-widgets/base",
      "_model_module_version": "1.2.0",
      "_model_name": "LayoutModel",
      "_view_count": null,
      "_view_module": "@jupyter-widgets/base",
      "_view_module_version": "1.2.0",
      "_view_name": "LayoutView",
      "align_content": null,
      "align_items": null,
      "align_self": null,
      "border": null,
      "bottom": null,
      "display": null,
      "flex": null,
      "flex_flow": null,
      "grid_area": null,
      "grid_auto_columns": null,
      "grid_auto_flow": null,
      "grid_auto_rows": null,
      "grid_column": null,
      "grid_gap": null,
      "grid_row": null,
      "grid_template_areas": null,
      "grid_template_columns": null,
      "grid_template_rows": null,
      "height": null,
      "justify_content": null,
      "justify_items": null,
      "left": null,
      "margin": null,
      "max_height": null,
      "max_width": null,
      "min_height": null,
      "min_width": null,
      "object_fit": null,
      "object_position": null,
      "order": null,
      "overflow": null,
      "overflow_x": null,
      "overflow_y": null,
      "padding": null,
      "right": null,
      "top": null,
      "visibility": null,
      "width": null
     }
    },
    "2ad24aa593234f0796140230b60bdf72": {
     "model_module": "@jupyter-widgets/controls",
     "model_module_version": "1.5.0",
     "model_name": "DescriptionStyleModel",
     "state": {
      "_model_module": "@jupyter-widgets/controls",
      "_model_module_version": "1.5.0",
      "_model_name": "DescriptionStyleModel",
      "_view_count": null,
      "_view_module": "@jupyter-widgets/base",
      "_view_module_version": "1.2.0",
      "_view_name": "StyleView",
      "description_width": ""
     }
    },
    "3059cc20545f42ccbd077c5d40c8132e": {
     "model_module": "@jupyter-widgets/base",
     "model_module_version": "1.2.0",
     "model_name": "LayoutModel",
     "state": {
      "_model_module": "@jupyter-widgets/base",
      "_model_module_version": "1.2.0",
      "_model_name": "LayoutModel",
      "_view_count": null,
      "_view_module": "@jupyter-widgets/base",
      "_view_module_version": "1.2.0",
      "_view_name": "LayoutView",
      "align_content": null,
      "align_items": null,
      "align_self": null,
      "border": null,
      "bottom": null,
      "display": null,
      "flex": null,
      "flex_flow": null,
      "grid_area": null,
      "grid_auto_columns": null,
      "grid_auto_flow": null,
      "grid_auto_rows": null,
      "grid_column": null,
      "grid_gap": null,
      "grid_row": null,
      "grid_template_areas": null,
      "grid_template_columns": null,
      "grid_template_rows": null,
      "height": null,
      "justify_content": null,
      "justify_items": null,
      "left": null,
      "margin": null,
      "max_height": null,
      "max_width": null,
      "min_height": null,
      "min_width": null,
      "object_fit": null,
      "object_position": null,
      "order": null,
      "overflow": null,
      "overflow_x": null,
      "overflow_y": null,
      "padding": null,
      "right": null,
      "top": null,
      "visibility": null,
      "width": null
     }
    },
    "3e28d892d0d04dbfb4493f25ae043c75": {
     "model_module": "@jupyter-widgets/controls",
     "model_module_version": "1.5.0",
     "model_name": "DescriptionStyleModel",
     "state": {
      "_model_module": "@jupyter-widgets/controls",
      "_model_module_version": "1.5.0",
      "_model_name": "DescriptionStyleModel",
      "_view_count": null,
      "_view_module": "@jupyter-widgets/base",
      "_view_module_version": "1.2.0",
      "_view_name": "StyleView",
      "description_width": ""
     }
    },
    "4407e38e1b244db49bd9c879e41a7e15": {
     "model_module": "@jupyter-widgets/base",
     "model_module_version": "1.2.0",
     "model_name": "LayoutModel",
     "state": {
      "_model_module": "@jupyter-widgets/base",
      "_model_module_version": "1.2.0",
      "_model_name": "LayoutModel",
      "_view_count": null,
      "_view_module": "@jupyter-widgets/base",
      "_view_module_version": "1.2.0",
      "_view_name": "LayoutView",
      "align_content": null,
      "align_items": null,
      "align_self": null,
      "border": null,
      "bottom": null,
      "display": null,
      "flex": null,
      "flex_flow": null,
      "grid_area": null,
      "grid_auto_columns": null,
      "grid_auto_flow": null,
      "grid_auto_rows": null,
      "grid_column": null,
      "grid_gap": null,
      "grid_row": null,
      "grid_template_areas": null,
      "grid_template_columns": null,
      "grid_template_rows": null,
      "height": null,
      "justify_content": null,
      "justify_items": null,
      "left": null,
      "margin": null,
      "max_height": null,
      "max_width": null,
      "min_height": null,
      "min_width": null,
      "object_fit": null,
      "object_position": null,
      "order": null,
      "overflow": null,
      "overflow_x": null,
      "overflow_y": null,
      "padding": null,
      "right": null,
      "top": null,
      "visibility": null,
      "width": null
     }
    },
    "52a0163ab89a40d2ab241841bd0af782": {
     "model_module": "@jupyter-widgets/base",
     "model_module_version": "1.2.0",
     "model_name": "LayoutModel",
     "state": {
      "_model_module": "@jupyter-widgets/base",
      "_model_module_version": "1.2.0",
      "_model_name": "LayoutModel",
      "_view_count": null,
      "_view_module": "@jupyter-widgets/base",
      "_view_module_version": "1.2.0",
      "_view_name": "LayoutView",
      "align_content": null,
      "align_items": null,
      "align_self": null,
      "border": null,
      "bottom": null,
      "display": null,
      "flex": null,
      "flex_flow": null,
      "grid_area": null,
      "grid_auto_columns": null,
      "grid_auto_flow": null,
      "grid_auto_rows": null,
      "grid_column": null,
      "grid_gap": null,
      "grid_row": null,
      "grid_template_areas": null,
      "grid_template_columns": null,
      "grid_template_rows": null,
      "height": null,
      "justify_content": null,
      "justify_items": null,
      "left": null,
      "margin": null,
      "max_height": null,
      "max_width": null,
      "min_height": null,
      "min_width": null,
      "object_fit": null,
      "object_position": null,
      "order": null,
      "overflow": null,
      "overflow_x": null,
      "overflow_y": null,
      "padding": null,
      "right": null,
      "top": null,
      "visibility": null,
      "width": null
     }
    },
    "578d447d4ae54abeb3c380217d67088f": {
     "model_module": "@jupyter-widgets/controls",
     "model_module_version": "1.5.0",
     "model_name": "FloatProgressModel",
     "state": {
      "_dom_classes": [],
      "_model_module": "@jupyter-widgets/controls",
      "_model_module_version": "1.5.0",
      "_model_name": "FloatProgressModel",
      "_view_count": null,
      "_view_module": "@jupyter-widgets/controls",
      "_view_module_version": "1.5.0",
      "_view_name": "ProgressView",
      "bar_style": "success",
      "description": "",
      "description_tooltip": null,
      "layout": "IPY_MODEL_195b33bc66ad49dea6bfc3726847edbd",
      "max": 908,
      "min": 0,
      "orientation": "horizontal",
      "style": "IPY_MODEL_f694baa9f3d843a485afb2bd907fc9df",
      "value": 908
     }
    },
    "649a0f536f53486da53a399178f1bfdd": {
     "model_module": "@jupyter-widgets/controls",
     "model_module_version": "1.5.0",
     "model_name": "DescriptionStyleModel",
     "state": {
      "_model_module": "@jupyter-widgets/controls",
      "_model_module_version": "1.5.0",
      "_model_name": "DescriptionStyleModel",
      "_view_count": null,
      "_view_module": "@jupyter-widgets/base",
      "_view_module_version": "1.2.0",
      "_view_name": "StyleView",
      "description_width": ""
     }
    },
    "6b26af00d3cd46b3b5b67af0d2036cff": {
     "model_module": "@jupyter-widgets/controls",
     "model_module_version": "1.5.0",
     "model_name": "HTMLModel",
     "state": {
      "_dom_classes": [],
      "_model_module": "@jupyter-widgets/controls",
      "_model_module_version": "1.5.0",
      "_model_name": "HTMLModel",
      "_view_count": null,
      "_view_module": "@jupyter-widgets/controls",
      "_view_module_version": "1.5.0",
      "_view_name": "HTMLView",
      "description": "",
      "description_tooltip": null,
      "layout": "IPY_MODEL_3059cc20545f42ccbd077c5d40c8132e",
      "placeholder": "​",
      "style": "IPY_MODEL_f59b3d4e82d640ef9fc4e13dcfee374c",
      "value": "100%"
     }
    },
    "6c07eafcbc724a048a55e936cec7eaca": {
     "model_module": "@jupyter-widgets/controls",
     "model_module_version": "1.5.0",
     "model_name": "HBoxModel",
     "state": {
      "_dom_classes": [],
      "_model_module": "@jupyter-widgets/controls",
      "_model_module_version": "1.5.0",
      "_model_name": "HBoxModel",
      "_view_count": null,
      "_view_module": "@jupyter-widgets/controls",
      "_view_module_version": "1.5.0",
      "_view_name": "HBoxView",
      "box_style": "",
      "children": [
       "IPY_MODEL_d2609e8d964844b3834776526944b395",
       "IPY_MODEL_578d447d4ae54abeb3c380217d67088f",
       "IPY_MODEL_89a1cb82891f4a6b9eb1b30574032fc8"
      ],
      "layout": "IPY_MODEL_fc23a8a09f434edfa6b16623c146f5bd"
     }
    },
    "6cf75415b0274883a3089f37b8960617": {
     "model_module": "@jupyter-widgets/base",
     "model_module_version": "1.2.0",
     "model_name": "LayoutModel",
     "state": {
      "_model_module": "@jupyter-widgets/base",
      "_model_module_version": "1.2.0",
      "_model_name": "LayoutModel",
      "_view_count": null,
      "_view_module": "@jupyter-widgets/base",
      "_view_module_version": "1.2.0",
      "_view_name": "LayoutView",
      "align_content": null,
      "align_items": null,
      "align_self": null,
      "border": null,
      "bottom": null,
      "display": null,
      "flex": null,
      "flex_flow": null,
      "grid_area": null,
      "grid_auto_columns": null,
      "grid_auto_flow": null,
      "grid_auto_rows": null,
      "grid_column": null,
      "grid_gap": null,
      "grid_row": null,
      "grid_template_areas": null,
      "grid_template_columns": null,
      "grid_template_rows": null,
      "height": null,
      "justify_content": null,
      "justify_items": null,
      "left": null,
      "margin": null,
      "max_height": null,
      "max_width": null,
      "min_height": null,
      "min_width": null,
      "object_fit": null,
      "object_position": null,
      "order": null,
      "overflow": null,
      "overflow_x": null,
      "overflow_y": null,
      "padding": null,
      "right": null,
      "top": null,
      "visibility": null,
      "width": null
     }
    },
    "726f3e88b89140ed873947c4b216ceaf": {
     "model_module": "@jupyter-widgets/controls",
     "model_module_version": "1.5.0",
     "model_name": "FloatProgressModel",
     "state": {
      "_dom_classes": [],
      "_model_module": "@jupyter-widgets/controls",
      "_model_module_version": "1.5.0",
      "_model_name": "FloatProgressModel",
      "_view_count": null,
      "_view_module": "@jupyter-widgets/controls",
      "_view_module_version": "1.5.0",
      "_view_name": "ProgressView",
      "bar_style": "success",
      "description": "",
      "description_tooltip": null,
      "layout": "IPY_MODEL_c89e9a4e4e5840a2b72b67a80098ec28",
      "max": 3991,
      "min": 0,
      "orientation": "horizontal",
      "style": "IPY_MODEL_9bf3fa039eb9497fb85affb6fa287126",
      "value": 3991
     }
    },
    "763a5e122a3f43f59b66c00553b95b03": {
     "model_module": "@jupyter-widgets/controls",
     "model_module_version": "1.5.0",
     "model_name": "FloatProgressModel",
     "state": {
      "_dom_classes": [],
      "_model_module": "@jupyter-widgets/controls",
      "_model_module_version": "1.5.0",
      "_model_name": "FloatProgressModel",
      "_view_count": null,
      "_view_module": "@jupyter-widgets/controls",
      "_view_module_version": "1.5.0",
      "_view_name": "ProgressView",
      "bar_style": "success",
      "description": "",
      "description_tooltip": null,
      "layout": "IPY_MODEL_4407e38e1b244db49bd9c879e41a7e15",
      "max": 3991,
      "min": 0,
      "orientation": "horizontal",
      "style": "IPY_MODEL_bd4074d5f346431a8cddb08cd835cab0",
      "value": 3991
     }
    },
    "82a04ef6f1b246a58455486a3e4e9fa6": {
     "model_module": "@jupyter-widgets/controls",
     "model_module_version": "1.5.0",
     "model_name": "HBoxModel",
     "state": {
      "_dom_classes": [],
      "_model_module": "@jupyter-widgets/controls",
      "_model_module_version": "1.5.0",
      "_model_name": "HBoxModel",
      "_view_count": null,
      "_view_module": "@jupyter-widgets/controls",
      "_view_module_version": "1.5.0",
      "_view_name": "HBoxView",
      "box_style": "",
      "children": [
       "IPY_MODEL_8817a8c8da1d48c395e1ea66bf0a9244",
       "IPY_MODEL_096c06e9f4694daea23f4bf47b672313",
       "IPY_MODEL_ab0724a61e25457b9645067375319b31"
      ],
      "layout": "IPY_MODEL_6cf75415b0274883a3089f37b8960617"
     }
    },
    "87fcc2f0536c4fa8a07445d35d5c8649": {
     "model_module": "@jupyter-widgets/controls",
     "model_module_version": "1.5.0",
     "model_name": "HTMLModel",
     "state": {
      "_dom_classes": [],
      "_model_module": "@jupyter-widgets/controls",
      "_model_module_version": "1.5.0",
      "_model_name": "HTMLModel",
      "_view_count": null,
      "_view_module": "@jupyter-widgets/controls",
      "_view_module_version": "1.5.0",
      "_view_name": "HTMLView",
      "description": "",
      "description_tooltip": null,
      "layout": "IPY_MODEL_f563ec4e6b454cd0a76627045ee0dfc4",
      "placeholder": "​",
      "style": "IPY_MODEL_c1e151d0520d467084e4c0dc0893352b",
      "value": " 3991/3991 [1:30:03&lt;00:00,  1.62s/it]"
     }
    },
    "8817a8c8da1d48c395e1ea66bf0a9244": {
     "model_module": "@jupyter-widgets/controls",
     "model_module_version": "1.5.0",
     "model_name": "HTMLModel",
     "state": {
      "_dom_classes": [],
      "_model_module": "@jupyter-widgets/controls",
      "_model_module_version": "1.5.0",
      "_model_name": "HTMLModel",
      "_view_count": null,
      "_view_module": "@jupyter-widgets/controls",
      "_view_module_version": "1.5.0",
      "_view_name": "HTMLView",
      "description": "",
      "description_tooltip": null,
      "layout": "IPY_MODEL_e9638c52bb8b4c62ab38772ae5e01a80",
      "placeholder": "​",
      "style": "IPY_MODEL_2ad24aa593234f0796140230b60bdf72",
      "value": "100%"
     }
    },
    "89a1cb82891f4a6b9eb1b30574032fc8": {
     "model_module": "@jupyter-widgets/controls",
     "model_module_version": "1.5.0",
     "model_name": "HTMLModel",
     "state": {
      "_dom_classes": [],
      "_model_module": "@jupyter-widgets/controls",
      "_model_module_version": "1.5.0",
      "_model_name": "HTMLModel",
      "_view_count": null,
      "_view_module": "@jupyter-widgets/controls",
      "_view_module_version": "1.5.0",
      "_view_name": "HTMLView",
      "description": "",
      "description_tooltip": null,
      "layout": "IPY_MODEL_8c9ca0a43c104cb2adf0411eca60095b",
      "placeholder": "​",
      "style": "IPY_MODEL_649a0f536f53486da53a399178f1bfdd",
      "value": " 908/908 [11:39&lt;00:00,  1.47it/s]"
     }
    },
    "8c9ca0a43c104cb2adf0411eca60095b": {
     "model_module": "@jupyter-widgets/base",
     "model_module_version": "1.2.0",
     "model_name": "LayoutModel",
     "state": {
      "_model_module": "@jupyter-widgets/base",
      "_model_module_version": "1.2.0",
      "_model_name": "LayoutModel",
      "_view_count": null,
      "_view_module": "@jupyter-widgets/base",
      "_view_module_version": "1.2.0",
      "_view_name": "LayoutView",
      "align_content": null,
      "align_items": null,
      "align_self": null,
      "border": null,
      "bottom": null,
      "display": null,
      "flex": null,
      "flex_flow": null,
      "grid_area": null,
      "grid_auto_columns": null,
      "grid_auto_flow": null,
      "grid_auto_rows": null,
      "grid_column": null,
      "grid_gap": null,
      "grid_row": null,
      "grid_template_areas": null,
      "grid_template_columns": null,
      "grid_template_rows": null,
      "height": null,
      "justify_content": null,
      "justify_items": null,
      "left": null,
      "margin": null,
      "max_height": null,
      "max_width": null,
      "min_height": null,
      "min_width": null,
      "object_fit": null,
      "object_position": null,
      "order": null,
      "overflow": null,
      "overflow_x": null,
      "overflow_y": null,
      "padding": null,
      "right": null,
      "top": null,
      "visibility": null,
      "width": null
     }
    },
    "8fef3e74c8a74006a74f616a2d0e7235": {
     "model_module": "@jupyter-widgets/controls",
     "model_module_version": "1.5.0",
     "model_name": "HTMLModel",
     "state": {
      "_dom_classes": [],
      "_model_module": "@jupyter-widgets/controls",
      "_model_module_version": "1.5.0",
      "_model_name": "HTMLModel",
      "_view_count": null,
      "_view_module": "@jupyter-widgets/controls",
      "_view_module_version": "1.5.0",
      "_view_name": "HTMLView",
      "description": "",
      "description_tooltip": null,
      "layout": "IPY_MODEL_52a0163ab89a40d2ab241841bd0af782",
      "placeholder": "​",
      "style": "IPY_MODEL_d693effe171f45f391e7fd8383b2267c",
      "value": " 3991/3991 [51:06&lt;00:00,  1.30it/s]"
     }
    },
    "916f75ae6563475287d58973533af15a": {
     "model_module": "@jupyter-widgets/base",
     "model_module_version": "1.2.0",
     "model_name": "LayoutModel",
     "state": {
      "_model_module": "@jupyter-widgets/base",
      "_model_module_version": "1.2.0",
      "_model_name": "LayoutModel",
      "_view_count": null,
      "_view_module": "@jupyter-widgets/base",
      "_view_module_version": "1.2.0",
      "_view_name": "LayoutView",
      "align_content": null,
      "align_items": null,
      "align_self": null,
      "border": null,
      "bottom": null,
      "display": null,
      "flex": null,
      "flex_flow": null,
      "grid_area": null,
      "grid_auto_columns": null,
      "grid_auto_flow": null,
      "grid_auto_rows": null,
      "grid_column": null,
      "grid_gap": null,
      "grid_row": null,
      "grid_template_areas": null,
      "grid_template_columns": null,
      "grid_template_rows": null,
      "height": null,
      "justify_content": null,
      "justify_items": null,
      "left": null,
      "margin": null,
      "max_height": null,
      "max_width": null,
      "min_height": null,
      "min_width": null,
      "object_fit": null,
      "object_position": null,
      "order": null,
      "overflow": null,
      "overflow_x": null,
      "overflow_y": null,
      "padding": null,
      "right": null,
      "top": null,
      "visibility": null,
      "width": null
     }
    },
    "984103d8a4964b14bfa8599651e007cb": {
     "model_module": "@jupyter-widgets/controls",
     "model_module_version": "1.5.0",
     "model_name": "DescriptionStyleModel",
     "state": {
      "_model_module": "@jupyter-widgets/controls",
      "_model_module_version": "1.5.0",
      "_model_name": "DescriptionStyleModel",
      "_view_count": null,
      "_view_module": "@jupyter-widgets/base",
      "_view_module_version": "1.2.0",
      "_view_name": "StyleView",
      "description_width": ""
     }
    },
    "9bf3fa039eb9497fb85affb6fa287126": {
     "model_module": "@jupyter-widgets/controls",
     "model_module_version": "1.5.0",
     "model_name": "ProgressStyleModel",
     "state": {
      "_model_module": "@jupyter-widgets/controls",
      "_model_module_version": "1.5.0",
      "_model_name": "ProgressStyleModel",
      "_view_count": null,
      "_view_module": "@jupyter-widgets/base",
      "_view_module_version": "1.2.0",
      "_view_name": "StyleView",
      "bar_color": null,
      "description_width": ""
     }
    },
    "9eee2b7d95064d82a91991598135354d": {
     "model_module": "@jupyter-widgets/base",
     "model_module_version": "1.2.0",
     "model_name": "LayoutModel",
     "state": {
      "_model_module": "@jupyter-widgets/base",
      "_model_module_version": "1.2.0",
      "_model_name": "LayoutModel",
      "_view_count": null,
      "_view_module": "@jupyter-widgets/base",
      "_view_module_version": "1.2.0",
      "_view_name": "LayoutView",
      "align_content": null,
      "align_items": null,
      "align_self": null,
      "border": null,
      "bottom": null,
      "display": null,
      "flex": null,
      "flex_flow": null,
      "grid_area": null,
      "grid_auto_columns": null,
      "grid_auto_flow": null,
      "grid_auto_rows": null,
      "grid_column": null,
      "grid_gap": null,
      "grid_row": null,
      "grid_template_areas": null,
      "grid_template_columns": null,
      "grid_template_rows": null,
      "height": null,
      "justify_content": null,
      "justify_items": null,
      "left": null,
      "margin": null,
      "max_height": null,
      "max_width": null,
      "min_height": null,
      "min_width": null,
      "object_fit": null,
      "object_position": null,
      "order": null,
      "overflow": null,
      "overflow_x": null,
      "overflow_y": null,
      "padding": null,
      "right": null,
      "top": null,
      "visibility": null,
      "width": null
     }
    },
    "aa8d193361a7409f8848be295599e9ff": {
     "model_module": "@jupyter-widgets/base",
     "model_module_version": "1.2.0",
     "model_name": "LayoutModel",
     "state": {
      "_model_module": "@jupyter-widgets/base",
      "_model_module_version": "1.2.0",
      "_model_name": "LayoutModel",
      "_view_count": null,
      "_view_module": "@jupyter-widgets/base",
      "_view_module_version": "1.2.0",
      "_view_name": "LayoutView",
      "align_content": null,
      "align_items": null,
      "align_self": null,
      "border": null,
      "bottom": null,
      "display": null,
      "flex": null,
      "flex_flow": null,
      "grid_area": null,
      "grid_auto_columns": null,
      "grid_auto_flow": null,
      "grid_auto_rows": null,
      "grid_column": null,
      "grid_gap": null,
      "grid_row": null,
      "grid_template_areas": null,
      "grid_template_columns": null,
      "grid_template_rows": null,
      "height": null,
      "justify_content": null,
      "justify_items": null,
      "left": null,
      "margin": null,
      "max_height": null,
      "max_width": null,
      "min_height": null,
      "min_width": null,
      "object_fit": null,
      "object_position": null,
      "order": null,
      "overflow": null,
      "overflow_x": null,
      "overflow_y": null,
      "padding": null,
      "right": null,
      "top": null,
      "visibility": null,
      "width": null
     }
    },
    "ab0724a61e25457b9645067375319b31": {
     "model_module": "@jupyter-widgets/controls",
     "model_module_version": "1.5.0",
     "model_name": "HTMLModel",
     "state": {
      "_dom_classes": [],
      "_model_module": "@jupyter-widgets/controls",
      "_model_module_version": "1.5.0",
      "_model_name": "HTMLModel",
      "_view_count": null,
      "_view_module": "@jupyter-widgets/controls",
      "_view_module_version": "1.5.0",
      "_view_name": "HTMLView",
      "description": "",
      "description_tooltip": null,
      "layout": "IPY_MODEL_f52305abc1684ff9a5fcf296d452c5ba",
      "placeholder": "​",
      "style": "IPY_MODEL_b37a532a49f84953a40faacbe60f7d9a",
      "value": " 908/908 [20:34&lt;00:00,  1.30s/it]"
     }
    },
    "b37a532a49f84953a40faacbe60f7d9a": {
     "model_module": "@jupyter-widgets/controls",
     "model_module_version": "1.5.0",
     "model_name": "DescriptionStyleModel",
     "state": {
      "_model_module": "@jupyter-widgets/controls",
      "_model_module_version": "1.5.0",
      "_model_name": "DescriptionStyleModel",
      "_view_count": null,
      "_view_module": "@jupyter-widgets/base",
      "_view_module_version": "1.2.0",
      "_view_name": "StyleView",
      "description_width": ""
     }
    },
    "b6a1b642a8f647d7aafd4c24ab9ac585": {
     "model_module": "@jupyter-widgets/base",
     "model_module_version": "1.2.0",
     "model_name": "LayoutModel",
     "state": {
      "_model_module": "@jupyter-widgets/base",
      "_model_module_version": "1.2.0",
      "_model_name": "LayoutModel",
      "_view_count": null,
      "_view_module": "@jupyter-widgets/base",
      "_view_module_version": "1.2.0",
      "_view_name": "LayoutView",
      "align_content": null,
      "align_items": null,
      "align_self": null,
      "border": null,
      "bottom": null,
      "display": null,
      "flex": null,
      "flex_flow": null,
      "grid_area": null,
      "grid_auto_columns": null,
      "grid_auto_flow": null,
      "grid_auto_rows": null,
      "grid_column": null,
      "grid_gap": null,
      "grid_row": null,
      "grid_template_areas": null,
      "grid_template_columns": null,
      "grid_template_rows": null,
      "height": null,
      "justify_content": null,
      "justify_items": null,
      "left": null,
      "margin": null,
      "max_height": null,
      "max_width": null,
      "min_height": null,
      "min_width": null,
      "object_fit": null,
      "object_position": null,
      "order": null,
      "overflow": null,
      "overflow_x": null,
      "overflow_y": null,
      "padding": null,
      "right": null,
      "top": null,
      "visibility": null,
      "width": null
     }
    },
    "bd4074d5f346431a8cddb08cd835cab0": {
     "model_module": "@jupyter-widgets/controls",
     "model_module_version": "1.5.0",
     "model_name": "ProgressStyleModel",
     "state": {
      "_model_module": "@jupyter-widgets/controls",
      "_model_module_version": "1.5.0",
      "_model_name": "ProgressStyleModel",
      "_view_count": null,
      "_view_module": "@jupyter-widgets/base",
      "_view_module_version": "1.2.0",
      "_view_name": "StyleView",
      "bar_color": null,
      "description_width": ""
     }
    },
    "c1e151d0520d467084e4c0dc0893352b": {
     "model_module": "@jupyter-widgets/controls",
     "model_module_version": "1.5.0",
     "model_name": "DescriptionStyleModel",
     "state": {
      "_model_module": "@jupyter-widgets/controls",
      "_model_module_version": "1.5.0",
      "_model_name": "DescriptionStyleModel",
      "_view_count": null,
      "_view_module": "@jupyter-widgets/base",
      "_view_module_version": "1.2.0",
      "_view_name": "StyleView",
      "description_width": ""
     }
    },
    "c433b924c9114642a1f39a6309bf0434": {
     "model_module": "@jupyter-widgets/controls",
     "model_module_version": "1.5.0",
     "model_name": "ProgressStyleModel",
     "state": {
      "_model_module": "@jupyter-widgets/controls",
      "_model_module_version": "1.5.0",
      "_model_name": "ProgressStyleModel",
      "_view_count": null,
      "_view_module": "@jupyter-widgets/base",
      "_view_module_version": "1.2.0",
      "_view_name": "StyleView",
      "bar_color": null,
      "description_width": ""
     }
    },
    "c89e9a4e4e5840a2b72b67a80098ec28": {
     "model_module": "@jupyter-widgets/base",
     "model_module_version": "1.2.0",
     "model_name": "LayoutModel",
     "state": {
      "_model_module": "@jupyter-widgets/base",
      "_model_module_version": "1.2.0",
      "_model_name": "LayoutModel",
      "_view_count": null,
      "_view_module": "@jupyter-widgets/base",
      "_view_module_version": "1.2.0",
      "_view_name": "LayoutView",
      "align_content": null,
      "align_items": null,
      "align_self": null,
      "border": null,
      "bottom": null,
      "display": null,
      "flex": null,
      "flex_flow": null,
      "grid_area": null,
      "grid_auto_columns": null,
      "grid_auto_flow": null,
      "grid_auto_rows": null,
      "grid_column": null,
      "grid_gap": null,
      "grid_row": null,
      "grid_template_areas": null,
      "grid_template_columns": null,
      "grid_template_rows": null,
      "height": null,
      "justify_content": null,
      "justify_items": null,
      "left": null,
      "margin": null,
      "max_height": null,
      "max_width": null,
      "min_height": null,
      "min_width": null,
      "object_fit": null,
      "object_position": null,
      "order": null,
      "overflow": null,
      "overflow_x": null,
      "overflow_y": null,
      "padding": null,
      "right": null,
      "top": null,
      "visibility": null,
      "width": null
     }
    },
    "d2609e8d964844b3834776526944b395": {
     "model_module": "@jupyter-widgets/controls",
     "model_module_version": "1.5.0",
     "model_name": "HTMLModel",
     "state": {
      "_dom_classes": [],
      "_model_module": "@jupyter-widgets/controls",
      "_model_module_version": "1.5.0",
      "_model_name": "HTMLModel",
      "_view_count": null,
      "_view_module": "@jupyter-widgets/controls",
      "_view_module_version": "1.5.0",
      "_view_name": "HTMLView",
      "description": "",
      "description_tooltip": null,
      "layout": "IPY_MODEL_b6a1b642a8f647d7aafd4c24ab9ac585",
      "placeholder": "​",
      "style": "IPY_MODEL_3e28d892d0d04dbfb4493f25ae043c75",
      "value": "100%"
     }
    },
    "d693effe171f45f391e7fd8383b2267c": {
     "model_module": "@jupyter-widgets/controls",
     "model_module_version": "1.5.0",
     "model_name": "DescriptionStyleModel",
     "state": {
      "_model_module": "@jupyter-widgets/controls",
      "_model_module_version": "1.5.0",
      "_model_name": "DescriptionStyleModel",
      "_view_count": null,
      "_view_module": "@jupyter-widgets/base",
      "_view_module_version": "1.2.0",
      "_view_name": "StyleView",
      "description_width": ""
     }
    },
    "e9638c52bb8b4c62ab38772ae5e01a80": {
     "model_module": "@jupyter-widgets/base",
     "model_module_version": "1.2.0",
     "model_name": "LayoutModel",
     "state": {
      "_model_module": "@jupyter-widgets/base",
      "_model_module_version": "1.2.0",
      "_model_name": "LayoutModel",
      "_view_count": null,
      "_view_module": "@jupyter-widgets/base",
      "_view_module_version": "1.2.0",
      "_view_name": "LayoutView",
      "align_content": null,
      "align_items": null,
      "align_self": null,
      "border": null,
      "bottom": null,
      "display": null,
      "flex": null,
      "flex_flow": null,
      "grid_area": null,
      "grid_auto_columns": null,
      "grid_auto_flow": null,
      "grid_auto_rows": null,
      "grid_column": null,
      "grid_gap": null,
      "grid_row": null,
      "grid_template_areas": null,
      "grid_template_columns": null,
      "grid_template_rows": null,
      "height": null,
      "justify_content": null,
      "justify_items": null,
      "left": null,
      "margin": null,
      "max_height": null,
      "max_width": null,
      "min_height": null,
      "min_width": null,
      "object_fit": null,
      "object_position": null,
      "order": null,
      "overflow": null,
      "overflow_x": null,
      "overflow_y": null,
      "padding": null,
      "right": null,
      "top": null,
      "visibility": null,
      "width": null
     }
    },
    "f52305abc1684ff9a5fcf296d452c5ba": {
     "model_module": "@jupyter-widgets/base",
     "model_module_version": "1.2.0",
     "model_name": "LayoutModel",
     "state": {
      "_model_module": "@jupyter-widgets/base",
      "_model_module_version": "1.2.0",
      "_model_name": "LayoutModel",
      "_view_count": null,
      "_view_module": "@jupyter-widgets/base",
      "_view_module_version": "1.2.0",
      "_view_name": "LayoutView",
      "align_content": null,
      "align_items": null,
      "align_self": null,
      "border": null,
      "bottom": null,
      "display": null,
      "flex": null,
      "flex_flow": null,
      "grid_area": null,
      "grid_auto_columns": null,
      "grid_auto_flow": null,
      "grid_auto_rows": null,
      "grid_column": null,
      "grid_gap": null,
      "grid_row": null,
      "grid_template_areas": null,
      "grid_template_columns": null,
      "grid_template_rows": null,
      "height": null,
      "justify_content": null,
      "justify_items": null,
      "left": null,
      "margin": null,
      "max_height": null,
      "max_width": null,
      "min_height": null,
      "min_width": null,
      "object_fit": null,
      "object_position": null,
      "order": null,
      "overflow": null,
      "overflow_x": null,
      "overflow_y": null,
      "padding": null,
      "right": null,
      "top": null,
      "visibility": null,
      "width": null
     }
    },
    "f563ec4e6b454cd0a76627045ee0dfc4": {
     "model_module": "@jupyter-widgets/base",
     "model_module_version": "1.2.0",
     "model_name": "LayoutModel",
     "state": {
      "_model_module": "@jupyter-widgets/base",
      "_model_module_version": "1.2.0",
      "_model_name": "LayoutModel",
      "_view_count": null,
      "_view_module": "@jupyter-widgets/base",
      "_view_module_version": "1.2.0",
      "_view_name": "LayoutView",
      "align_content": null,
      "align_items": null,
      "align_self": null,
      "border": null,
      "bottom": null,
      "display": null,
      "flex": null,
      "flex_flow": null,
      "grid_area": null,
      "grid_auto_columns": null,
      "grid_auto_flow": null,
      "grid_auto_rows": null,
      "grid_column": null,
      "grid_gap": null,
      "grid_row": null,
      "grid_template_areas": null,
      "grid_template_columns": null,
      "grid_template_rows": null,
      "height": null,
      "justify_content": null,
      "justify_items": null,
      "left": null,
      "margin": null,
      "max_height": null,
      "max_width": null,
      "min_height": null,
      "min_width": null,
      "object_fit": null,
      "object_position": null,
      "order": null,
      "overflow": null,
      "overflow_x": null,
      "overflow_y": null,
      "padding": null,
      "right": null,
      "top": null,
      "visibility": null,
      "width": null
     }
    },
    "f59b3d4e82d640ef9fc4e13dcfee374c": {
     "model_module": "@jupyter-widgets/controls",
     "model_module_version": "1.5.0",
     "model_name": "DescriptionStyleModel",
     "state": {
      "_model_module": "@jupyter-widgets/controls",
      "_model_module_version": "1.5.0",
      "_model_name": "DescriptionStyleModel",
      "_view_count": null,
      "_view_module": "@jupyter-widgets/base",
      "_view_module_version": "1.2.0",
      "_view_name": "StyleView",
      "description_width": ""
     }
    },
    "f694baa9f3d843a485afb2bd907fc9df": {
     "model_module": "@jupyter-widgets/controls",
     "model_module_version": "1.5.0",
     "model_name": "ProgressStyleModel",
     "state": {
      "_model_module": "@jupyter-widgets/controls",
      "_model_module_version": "1.5.0",
      "_model_name": "ProgressStyleModel",
      "_view_count": null,
      "_view_module": "@jupyter-widgets/base",
      "_view_module_version": "1.2.0",
      "_view_name": "StyleView",
      "bar_color": null,
      "description_width": ""
     }
    },
    "fc23a8a09f434edfa6b16623c146f5bd": {
     "model_module": "@jupyter-widgets/base",
     "model_module_version": "1.2.0",
     "model_name": "LayoutModel",
     "state": {
      "_model_module": "@jupyter-widgets/base",
      "_model_module_version": "1.2.0",
      "_model_name": "LayoutModel",
      "_view_count": null,
      "_view_module": "@jupyter-widgets/base",
      "_view_module_version": "1.2.0",
      "_view_name": "LayoutView",
      "align_content": null,
      "align_items": null,
      "align_self": null,
      "border": null,
      "bottom": null,
      "display": null,
      "flex": null,
      "flex_flow": null,
      "grid_area": null,
      "grid_auto_columns": null,
      "grid_auto_flow": null,
      "grid_auto_rows": null,
      "grid_column": null,
      "grid_gap": null,
      "grid_row": null,
      "grid_template_areas": null,
      "grid_template_columns": null,
      "grid_template_rows": null,
      "height": null,
      "justify_content": null,
      "justify_items": null,
      "left": null,
      "margin": null,
      "max_height": null,
      "max_width": null,
      "min_height": null,
      "min_width": null,
      "object_fit": null,
      "object_position": null,
      "order": null,
      "overflow": null,
      "overflow_x": null,
      "overflow_y": null,
      "padding": null,
      "right": null,
      "top": null,
      "visibility": null,
      "width": null
     }
    },
    "fd10ac5185364fb188fb13b3eea26ffb": {
     "model_module": "@jupyter-widgets/controls",
     "model_module_version": "1.5.0",
     "model_name": "HBoxModel",
     "state": {
      "_dom_classes": [],
      "_model_module": "@jupyter-widgets/controls",
      "_model_module_version": "1.5.0",
      "_model_name": "HBoxModel",
      "_view_count": null,
      "_view_module": "@jupyter-widgets/controls",
      "_view_module_version": "1.5.0",
      "_view_name": "HBoxView",
      "box_style": "",
      "children": [
       "IPY_MODEL_09057bbe757744f58875b993cd5cc531",
       "IPY_MODEL_726f3e88b89140ed873947c4b216ceaf",
       "IPY_MODEL_87fcc2f0536c4fa8a07445d35d5c8649"
      ],
      "layout": "IPY_MODEL_24c82526b726419eaebc44adaaa18513"
     }
    }
   }
  }
 },
 "nbformat": 4,
 "nbformat_minor": 1
}
